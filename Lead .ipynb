{
  "cells": [
    {
      "cell_type": "code",
      "source": [
        "import pyodbc\n",
        "from sqlalchemy import create_engine\n",
        "import pandas as pd"
      ],
      "outputs": [],
      "execution_count": 1,
      "metadata": {
        "jupyter": {
          "source_hidden": false,
          "outputs_hidden": false
        },
        "nteract": {
          "transient": {
            "deleting": false
          }
        },
        "gather": {
          "logged": 1733286967297
        }
      }
    },
    {
      "cell_type": "code",
      "source": [
        "#Set Up the Connection String: \n",
        "connection_string = (\n",
        "    \"Driver={ODBC Driver 18 for SQL Server};\"\n",
        "    \"Server=techent.database.windows.net;\"\n",
        "    \"Database=QAECECRM;\"\n",
        "    \"Uid=dbadmin;\"\n",
        "    \"Pwd=DashTech1234;\"\n",
        "    \"Encrypt=yes;\"\n",
        "    \"TrustServerCertificate=no;\"\n",
        ")\n",
        "\n",
        "conn = pyodbc.connect(connection_string)"
      ],
      "outputs": [],
      "execution_count": 2,
      "metadata": {
        "jupyter": {
          "source_hidden": false,
          "outputs_hidden": false
        },
        "nteract": {
          "transient": {
            "deleting": false
          }
        },
        "gather": {
          "logged": 1733286967388
        }
      }
    },
    {
      "cell_type": "code",
      "source": [
        "# Query Data from Azure SQL\n",
        "query = \"SELECT * FROM Lead\"\n",
        "df = pd.read_sql(query, conn)"
      ],
      "outputs": [],
      "execution_count": 3,
      "metadata": {
        "jupyter": {
          "source_hidden": false,
          "outputs_hidden": false
        },
        "nteract": {
          "transient": {
            "deleting": false
          }
        },
        "gather": {
          "logged": 1733286969293
        }
      }
    },
    {
      "cell_type": "code",
      "source": [
        "df.head()"
      ],
      "outputs": [
        {
          "output_type": "execute_result",
          "execution_count": 4,
          "data": {
            "text/plain": "   LeadId  AgentId  RecommendedAgentId FirstName    LastName  \\\n0       1      NaN                 NaN      ryan  abrahamsen   \n1       2    106.0               253.0    Joseph    Hallahan   \n2       3    253.0                 NaN   Caitlin     Whissel   \n3       4    307.0                 NaN      Ryan      Brewer   \n4       5    417.0                 NaN   Presley     Bennett   \n\n            EmailAddress   PhoneNumber  CanText            EventDate  \\\n0  ryan.a@teleofilms.com  804-677-1456     True  2018-06-29 00:00:00   \n1     jhal.gwu@gmail.com  315-657-6942     True  2018-10-14 00:00:00   \n2    cewhissel@gmail.com  410-707-0975     True  2018-10-27 00:00:00   \n3   Mrbrewer42@gmail.com  704-241-6229     True  2018-08-18 00:00:00   \n4  psbennett92@gmail.com  662-902-6385     True  2019-03-16 00:00:00   \n\n         EventVenueName  ...          SubmissionDate  IsClosed  \\\n0                  test  ... 2018-06-03 21:00:47.037      True   \n1  The Market at Grelen  ... 2018-06-03 23:30:16.323      True   \n2                   TBD  ... 2018-06-04 08:54:21.080      True   \n3  Old North State Club  ... 2018-06-04 10:00:54.437      True   \n4            Sea Island  ... 2018-06-04 10:20:04.570      True   \n\n               ClosedDate                                            WebData  \\\n0 2018-06-04 13:22:32.527  {\\r\\n  \"first_name\": \"ryan\",\\r\\n  \"last_name\":...   \n1 2018-06-04 11:20:56.937  {\\r\\n  \"first_name\": \"Joseph\",\\r\\n  \"last_name...   \n2 2018-06-04 15:13:50.657  {\\r\\n  \"first_name\": \"Caitlin\",\\r\\n  \"last_nam...   \n3 2018-06-04 17:53:08.677  {\\r\\n  \"first_name\": \"Ryan\",\\r\\n  \"last_name\":...   \n4 2018-06-05 11:32:12.447  {\\r\\n  \"first_name\": \"Presley\",\\r\\n  \"last_nam...   \n\n              CreatedDate CreatedById             UpdatedDate UpdatedById  \\\n0 2018-06-03 21:00:47.037      999999 2018-06-04 13:22:32.527       182.0   \n1 2018-06-03 23:30:16.323      999999 2018-06-04 11:20:56.937       182.0   \n2 2018-06-04 08:54:21.080      999999 2018-06-04 15:13:50.657       253.0   \n3 2018-06-04 10:00:54.437      999999 2018-06-04 17:53:08.677       307.0   \n4 2018-06-04 10:20:04.570      999999 2018-06-05 11:32:12.447       417.0   \n\n   ArchiveDate  LineOfBusinessId  \n0   2018-07-12               NaN  \n1         None               NaN  \n2         None               NaN  \n3         None               NaN  \n4         None               NaN  \n\n[5 rows x 39 columns]",
            "text/html": "<div>\n<style scoped>\n    .dataframe tbody tr th:only-of-type {\n        vertical-align: middle;\n    }\n\n    .dataframe tbody tr th {\n        vertical-align: top;\n    }\n\n    .dataframe thead th {\n        text-align: right;\n    }\n</style>\n<table border=\"1\" class=\"dataframe\">\n  <thead>\n    <tr style=\"text-align: right;\">\n      <th></th>\n      <th>LeadId</th>\n      <th>AgentId</th>\n      <th>RecommendedAgentId</th>\n      <th>FirstName</th>\n      <th>LastName</th>\n      <th>EmailAddress</th>\n      <th>PhoneNumber</th>\n      <th>CanText</th>\n      <th>EventDate</th>\n      <th>EventVenueName</th>\n      <th>...</th>\n      <th>SubmissionDate</th>\n      <th>IsClosed</th>\n      <th>ClosedDate</th>\n      <th>WebData</th>\n      <th>CreatedDate</th>\n      <th>CreatedById</th>\n      <th>UpdatedDate</th>\n      <th>UpdatedById</th>\n      <th>ArchiveDate</th>\n      <th>LineOfBusinessId</th>\n    </tr>\n  </thead>\n  <tbody>\n    <tr>\n      <th>0</th>\n      <td>1</td>\n      <td>NaN</td>\n      <td>NaN</td>\n      <td>ryan</td>\n      <td>abrahamsen</td>\n      <td>ryan.a@teleofilms.com</td>\n      <td>804-677-1456</td>\n      <td>True</td>\n      <td>2018-06-29 00:00:00</td>\n      <td>test</td>\n      <td>...</td>\n      <td>2018-06-03 21:00:47.037</td>\n      <td>True</td>\n      <td>2018-06-04 13:22:32.527</td>\n      <td>{\\r\\n  \"first_name\": \"ryan\",\\r\\n  \"last_name\":...</td>\n      <td>2018-06-03 21:00:47.037</td>\n      <td>999999</td>\n      <td>2018-06-04 13:22:32.527</td>\n      <td>182.0</td>\n      <td>2018-07-12</td>\n      <td>NaN</td>\n    </tr>\n    <tr>\n      <th>1</th>\n      <td>2</td>\n      <td>106.0</td>\n      <td>253.0</td>\n      <td>Joseph</td>\n      <td>Hallahan</td>\n      <td>jhal.gwu@gmail.com</td>\n      <td>315-657-6942</td>\n      <td>True</td>\n      <td>2018-10-14 00:00:00</td>\n      <td>The Market at Grelen</td>\n      <td>...</td>\n      <td>2018-06-03 23:30:16.323</td>\n      <td>True</td>\n      <td>2018-06-04 11:20:56.937</td>\n      <td>{\\r\\n  \"first_name\": \"Joseph\",\\r\\n  \"last_name...</td>\n      <td>2018-06-03 23:30:16.323</td>\n      <td>999999</td>\n      <td>2018-06-04 11:20:56.937</td>\n      <td>182.0</td>\n      <td>None</td>\n      <td>NaN</td>\n    </tr>\n    <tr>\n      <th>2</th>\n      <td>3</td>\n      <td>253.0</td>\n      <td>NaN</td>\n      <td>Caitlin</td>\n      <td>Whissel</td>\n      <td>cewhissel@gmail.com</td>\n      <td>410-707-0975</td>\n      <td>True</td>\n      <td>2018-10-27 00:00:00</td>\n      <td>TBD</td>\n      <td>...</td>\n      <td>2018-06-04 08:54:21.080</td>\n      <td>True</td>\n      <td>2018-06-04 15:13:50.657</td>\n      <td>{\\r\\n  \"first_name\": \"Caitlin\",\\r\\n  \"last_nam...</td>\n      <td>2018-06-04 08:54:21.080</td>\n      <td>999999</td>\n      <td>2018-06-04 15:13:50.657</td>\n      <td>253.0</td>\n      <td>None</td>\n      <td>NaN</td>\n    </tr>\n    <tr>\n      <th>3</th>\n      <td>4</td>\n      <td>307.0</td>\n      <td>NaN</td>\n      <td>Ryan</td>\n      <td>Brewer</td>\n      <td>Mrbrewer42@gmail.com</td>\n      <td>704-241-6229</td>\n      <td>True</td>\n      <td>2018-08-18 00:00:00</td>\n      <td>Old North State Club</td>\n      <td>...</td>\n      <td>2018-06-04 10:00:54.437</td>\n      <td>True</td>\n      <td>2018-06-04 17:53:08.677</td>\n      <td>{\\r\\n  \"first_name\": \"Ryan\",\\r\\n  \"last_name\":...</td>\n      <td>2018-06-04 10:00:54.437</td>\n      <td>999999</td>\n      <td>2018-06-04 17:53:08.677</td>\n      <td>307.0</td>\n      <td>None</td>\n      <td>NaN</td>\n    </tr>\n    <tr>\n      <th>4</th>\n      <td>5</td>\n      <td>417.0</td>\n      <td>NaN</td>\n      <td>Presley</td>\n      <td>Bennett</td>\n      <td>psbennett92@gmail.com</td>\n      <td>662-902-6385</td>\n      <td>True</td>\n      <td>2019-03-16 00:00:00</td>\n      <td>Sea Island</td>\n      <td>...</td>\n      <td>2018-06-04 10:20:04.570</td>\n      <td>True</td>\n      <td>2018-06-05 11:32:12.447</td>\n      <td>{\\r\\n  \"first_name\": \"Presley\",\\r\\n  \"last_nam...</td>\n      <td>2018-06-04 10:20:04.570</td>\n      <td>999999</td>\n      <td>2018-06-05 11:32:12.447</td>\n      <td>417.0</td>\n      <td>None</td>\n      <td>NaN</td>\n    </tr>\n  </tbody>\n</table>\n<p>5 rows × 39 columns</p>\n</div>"
          },
          "metadata": {}
        }
      ],
      "execution_count": 4,
      "metadata": {
        "jupyter": {
          "source_hidden": false,
          "outputs_hidden": false
        },
        "nteract": {
          "transient": {
            "deleting": false
          }
        },
        "gather": {
          "logged": 1733286969401
        }
      }
    },
    {
      "cell_type": "code",
      "source": [
        "df.describe()"
      ],
      "outputs": [
        {
          "output_type": "execute_result",
          "execution_count": 5,
          "data": {
            "text/plain": "             LeadId       AgentId  RecommendedAgentId  EventStateId  \\\ncount  46646.000000  4.513500e+04        4.110000e+02  33703.000000   \nmean   23364.595807  1.209766e+05        9.522155e+04     28.519093   \nstd    13507.521428  3.257529e+05        2.934127e+05     13.563819   \nmin        1.000000  1.000000e+00        3.000000e+00      1.000000   \n25%    11666.250000  2.210000e+02        2.530000e+02     15.000000   \n50%    23347.500000  3.300000e+02        4.170000e+02     28.000000   \n75%    35045.750000  4.300000e+02        4.350000e+02     41.000000   \nmax    49762.000000  1.000469e+06        1.000459e+06     74.000000   \n\n        EventTypeId  LeadSourceId       ArtistId  Participant1TypeId  \\\ncount  46646.000000  46646.000000   17218.000000        23923.000000   \nmean      57.201346      4.060584   22560.706180            1.265017   \nstd       30.749587      0.488583   22815.405469            0.441351   \nmin        1.000000      1.000000       2.000000            1.000000   \n25%       36.000000      4.000000   13166.000000            1.000000   \n50%       36.000000      4.000000   17999.000000            1.000000   \n75%       99.000000      4.000000   30435.000000            2.000000   \nmax      107.000000      7.000000  103878.000000            2.000000   \n\n       Participant2TypeId   CreatedById   UpdatedById  LineOfBusinessId  \ncount        23384.000000  4.664600e+04  4.659500e+04         10.000000  \nmean             1.713265  8.512480e+05  1.577587e+05          2.400000  \nstd              0.452246  3.558111e+05  3.642459e+05          0.843274  \nmin              1.000000 -1.000000e+00  1.000000e+00          1.000000  \n25%              1.000000  9.999990e+05  2.210000e+02          2.000000  \n50%              2.000000  9.999990e+05  3.300000e+02          3.000000  \n75%              2.000000  9.999990e+05  4.350000e+02          3.000000  \nmax              2.000000  1.000489e+06  1.000478e+06          3.000000  ",
            "text/html": "<div>\n<style scoped>\n    .dataframe tbody tr th:only-of-type {\n        vertical-align: middle;\n    }\n\n    .dataframe tbody tr th {\n        vertical-align: top;\n    }\n\n    .dataframe thead th {\n        text-align: right;\n    }\n</style>\n<table border=\"1\" class=\"dataframe\">\n  <thead>\n    <tr style=\"text-align: right;\">\n      <th></th>\n      <th>LeadId</th>\n      <th>AgentId</th>\n      <th>RecommendedAgentId</th>\n      <th>EventStateId</th>\n      <th>EventTypeId</th>\n      <th>LeadSourceId</th>\n      <th>ArtistId</th>\n      <th>Participant1TypeId</th>\n      <th>Participant2TypeId</th>\n      <th>CreatedById</th>\n      <th>UpdatedById</th>\n      <th>LineOfBusinessId</th>\n    </tr>\n  </thead>\n  <tbody>\n    <tr>\n      <th>count</th>\n      <td>46646.000000</td>\n      <td>4.513500e+04</td>\n      <td>4.110000e+02</td>\n      <td>33703.000000</td>\n      <td>46646.000000</td>\n      <td>46646.000000</td>\n      <td>17218.000000</td>\n      <td>23923.000000</td>\n      <td>23384.000000</td>\n      <td>4.664600e+04</td>\n      <td>4.659500e+04</td>\n      <td>10.000000</td>\n    </tr>\n    <tr>\n      <th>mean</th>\n      <td>23364.595807</td>\n      <td>1.209766e+05</td>\n      <td>9.522155e+04</td>\n      <td>28.519093</td>\n      <td>57.201346</td>\n      <td>4.060584</td>\n      <td>22560.706180</td>\n      <td>1.265017</td>\n      <td>1.713265</td>\n      <td>8.512480e+05</td>\n      <td>1.577587e+05</td>\n      <td>2.400000</td>\n    </tr>\n    <tr>\n      <th>std</th>\n      <td>13507.521428</td>\n      <td>3.257529e+05</td>\n      <td>2.934127e+05</td>\n      <td>13.563819</td>\n      <td>30.749587</td>\n      <td>0.488583</td>\n      <td>22815.405469</td>\n      <td>0.441351</td>\n      <td>0.452246</td>\n      <td>3.558111e+05</td>\n      <td>3.642459e+05</td>\n      <td>0.843274</td>\n    </tr>\n    <tr>\n      <th>min</th>\n      <td>1.000000</td>\n      <td>1.000000e+00</td>\n      <td>3.000000e+00</td>\n      <td>1.000000</td>\n      <td>1.000000</td>\n      <td>1.000000</td>\n      <td>2.000000</td>\n      <td>1.000000</td>\n      <td>1.000000</td>\n      <td>-1.000000e+00</td>\n      <td>1.000000e+00</td>\n      <td>1.000000</td>\n    </tr>\n    <tr>\n      <th>25%</th>\n      <td>11666.250000</td>\n      <td>2.210000e+02</td>\n      <td>2.530000e+02</td>\n      <td>15.000000</td>\n      <td>36.000000</td>\n      <td>4.000000</td>\n      <td>13166.000000</td>\n      <td>1.000000</td>\n      <td>1.000000</td>\n      <td>9.999990e+05</td>\n      <td>2.210000e+02</td>\n      <td>2.000000</td>\n    </tr>\n    <tr>\n      <th>50%</th>\n      <td>23347.500000</td>\n      <td>3.300000e+02</td>\n      <td>4.170000e+02</td>\n      <td>28.000000</td>\n      <td>36.000000</td>\n      <td>4.000000</td>\n      <td>17999.000000</td>\n      <td>1.000000</td>\n      <td>2.000000</td>\n      <td>9.999990e+05</td>\n      <td>3.300000e+02</td>\n      <td>3.000000</td>\n    </tr>\n    <tr>\n      <th>75%</th>\n      <td>35045.750000</td>\n      <td>4.300000e+02</td>\n      <td>4.350000e+02</td>\n      <td>41.000000</td>\n      <td>99.000000</td>\n      <td>4.000000</td>\n      <td>30435.000000</td>\n      <td>2.000000</td>\n      <td>2.000000</td>\n      <td>9.999990e+05</td>\n      <td>4.350000e+02</td>\n      <td>3.000000</td>\n    </tr>\n    <tr>\n      <th>max</th>\n      <td>49762.000000</td>\n      <td>1.000469e+06</td>\n      <td>1.000459e+06</td>\n      <td>74.000000</td>\n      <td>107.000000</td>\n      <td>7.000000</td>\n      <td>103878.000000</td>\n      <td>2.000000</td>\n      <td>2.000000</td>\n      <td>1.000489e+06</td>\n      <td>1.000478e+06</td>\n      <td>3.000000</td>\n    </tr>\n  </tbody>\n</table>\n</div>"
          },
          "metadata": {}
        }
      ],
      "execution_count": 5,
      "metadata": {
        "jupyter": {
          "source_hidden": false,
          "outputs_hidden": false
        },
        "nteract": {
          "transient": {
            "deleting": false
          }
        },
        "gather": {
          "logged": 1733286969517
        }
      }
    },
    {
      "cell_type": "code",
      "source": [
        "df.info()"
      ],
      "outputs": [
        {
          "output_type": "stream",
          "name": "stdout",
          "text": "<class 'pandas.core.frame.DataFrame'>\nRangeIndex: 46646 entries, 0 to 46645\nData columns (total 39 columns):\n #   Column                 Non-Null Count  Dtype         \n---  ------                 --------------  -----         \n 0   LeadId                 46646 non-null  int64         \n 1   AgentId                45135 non-null  float64       \n 2   RecommendedAgentId     411 non-null    float64       \n 3   FirstName              46646 non-null  object        \n 4   LastName               46646 non-null  object        \n 5   EmailAddress           46629 non-null  object        \n 6   PhoneNumber            46629 non-null  object        \n 7   CanText                46646 non-null  bool          \n 8   EventDate              44848 non-null  object        \n 9   EventVenueName         46629 non-null  object        \n 10  EventCity              46629 non-null  object        \n 11  EventStateId           33703 non-null  float64       \n 12  EventTypeId            46646 non-null  int64         \n 13  LeadSourceId           46646 non-null  int64         \n 14  ArtistId               17218 non-null  float64       \n 15  ArtistName             46629 non-null  object        \n 16  Participant1Name       46629 non-null  object        \n 17  Participant2Name       46629 non-null  object        \n 18  Participant1TypeId     23923 non-null  float64       \n 19  Participant2TypeId     23384 non-null  float64       \n 20  EventNotes             46629 non-null  object        \n 21  ReferralSource         46646 non-null  object        \n 22  ReferralArtistName     46629 non-null  object        \n 23  ReferralAgentName      46629 non-null  object        \n 24  ReferralEventDate      46621 non-null  object        \n 25  ReferralPresenterName  46629 non-null  object        \n 26  ReferralVenueName      46629 non-null  object        \n 27  ReferralContact        46629 non-null  object        \n 28  ReferralNotes          46629 non-null  object        \n 29  SubmissionDate         46646 non-null  datetime64[ns]\n 30  IsClosed               46646 non-null  bool          \n 31  ClosedDate             45966 non-null  datetime64[ns]\n 32  WebData                46621 non-null  object        \n 33  CreatedDate            46646 non-null  datetime64[ns]\n 34  CreatedById            46646 non-null  int64         \n 35  UpdatedDate            46595 non-null  datetime64[ns]\n 36  UpdatedById            46595 non-null  float64       \n 37  ArchiveDate            2 non-null      object        \n 38  LineOfBusinessId       10 non-null     float64       \ndtypes: bool(2), datetime64[ns](4), float64(8), int64(4), object(21)\nmemory usage: 13.3+ MB\n"
        }
      ],
      "execution_count": 6,
      "metadata": {
        "jupyter": {
          "source_hidden": false,
          "outputs_hidden": false
        },
        "nteract": {
          "transient": {
            "deleting": false
          }
        },
        "gather": {
          "logged": 1733286969629
        }
      }
    },
    {
      "cell_type": "markdown",
      "source": [
        "Shape of the Data:\n",
        "\n",
        "Total Records: 46,646 leads.\n",
        "Columns: 39 fields with mixed data types: integers, floats, strings (objects), booleans, and datetime."
      ],
      "metadata": {
        "nteract": {
          "transient": {
            "deleting": false
          }
        }
      }
    },
    {
      "cell_type": "code",
      "source": [
        "# Check missing values\n",
        "missing_summary = df.isnull().sum()\n",
        "missing_summary"
      ],
      "outputs": [
        {
          "output_type": "execute_result",
          "execution_count": 7,
          "data": {
            "text/plain": "LeadId                       0\nAgentId                   1511\nRecommendedAgentId       46235\nFirstName                    0\nLastName                     0\nEmailAddress                17\nPhoneNumber                 17\nCanText                      0\nEventDate                 1798\nEventVenueName              17\nEventCity                   17\nEventStateId             12943\nEventTypeId                  0\nLeadSourceId                 0\nArtistId                 29428\nArtistName                  17\nParticipant1Name            17\nParticipant2Name            17\nParticipant1TypeId       22723\nParticipant2TypeId       23262\nEventNotes                  17\nReferralSource               0\nReferralArtistName          17\nReferralAgentName           17\nReferralEventDate           25\nReferralPresenterName       17\nReferralVenueName           17\nReferralContact             17\nReferralNotes               17\nSubmissionDate               0\nIsClosed                     0\nClosedDate                 680\nWebData                     25\nCreatedDate                  0\nCreatedById                  0\nUpdatedDate                 51\nUpdatedById                 51\nArchiveDate              46644\nLineOfBusinessId         46636\ndtype: int64"
          },
          "metadata": {}
        }
      ],
      "execution_count": 7,
      "metadata": {
        "jupyter": {
          "source_hidden": false,
          "outputs_hidden": false
        },
        "nteract": {
          "transient": {
            "deleting": false
          }
        },
        "gather": {
          "logged": 1733286969729
        }
      }
    },
    {
      "cell_type": "markdown",
      "source": [
        "RecommendedAgentId: Only 411 non-null values (99% missing).\n",
        "ArtistId: 17,218 non-null values (~63% missing).\n",
        "EventStateId: 33,703 non-null values (~28% missing).\n",
        "Participant1TypeId: 23,923 non-null values (~48% missing).\n",
        "Participant2TypeId: 23,384 non-null values (~50% missing).\n",
        "ArchiveDate: Only 2 non-null values (essentially unusable).\n",
        "LineOfBusinessId: Only 10 non-null values (nearly 100% missing)."
      ],
      "metadata": {
        "nteract": {
          "transient": {
            "deleting": false
          }
        }
      }
    },
    {
      "cell_type": "code",
      "source": [
        "# Convert date columns\n",
        "df['EventDate'] = pd.to_datetime(df['EventDate'], errors='coerce')\n",
        "df['ClosedDate'] = pd.to_datetime(df['ClosedDate'], errors='coerce')"
      ],
      "outputs": [],
      "execution_count": 8,
      "metadata": {
        "jupyter": {
          "source_hidden": false,
          "outputs_hidden": false
        },
        "nteract": {
          "transient": {
            "deleting": false
          }
        },
        "gather": {
          "logged": 1733286969837
        }
      }
    },
    {
      "cell_type": "code",
      "source": [
        "# Normalize text data\n",
        "df['FirstName'] = df['FirstName'].str.strip().str.title()\n",
        "df['LastName'] = df['LastName'].str.strip().str.title()"
      ],
      "outputs": [],
      "execution_count": 10,
      "metadata": {
        "jupyter": {
          "source_hidden": false,
          "outputs_hidden": false
        },
        "nteract": {
          "transient": {
            "deleting": false
          }
        },
        "gather": {
          "logged": 1733286970020
        }
      }
    },
    {
      "cell_type": "code",
      "source": [
        "# Convert 'CanText' and 'IsClosed' to boolean\n",
        "df['CanText'] = df['CanText'].astype(bool)\n",
        "df['IsClosed'] = df['IsClosed'].astype(bool)"
      ],
      "outputs": [],
      "execution_count": 11,
      "metadata": {
        "jupyter": {
          "source_hidden": false,
          "outputs_hidden": false
        },
        "nteract": {
          "transient": {
            "deleting": false
          }
        },
        "gather": {
          "logged": 1733286970117
        }
      }
    },
    {
      "cell_type": "code",
      "source": [
        "# Drop nearly empty columns\n",
        "df.drop(['RecommendedAgentId', 'ArchiveDate', 'LineOfBusinessId'], axis=1, inplace=True)"
      ],
      "outputs": [],
      "execution_count": 12,
      "metadata": {
        "jupyter": {
          "source_hidden": false,
          "outputs_hidden": false
        },
        "nteract": {
          "transient": {
            "deleting": false
          }
        },
        "gather": {
          "logged": 1733286970205
        }
      }
    },
    {
      "cell_type": "code",
      "source": [
        "# Impute missing values for Participant1TypeId and Participant2TypeId\n",
        "df['Participant1TypeId'].fillna('Unknown', inplace=True)\n",
        "df['Participant2TypeId'].fillna('Unknown', inplace=True)"
      ],
      "outputs": [],
      "execution_count": 13,
      "metadata": {
        "jupyter": {
          "source_hidden": false,
          "outputs_hidden": false
        },
        "nteract": {
          "transient": {
            "deleting": false
          }
        },
        "gather": {
          "logged": 1733286970302
        }
      }
    },
    {
      "cell_type": "code",
      "source": [
        "# Replace missing ArtistId with a placeholder\n",
        "df['ArtistId'] = df['ArtistId'].fillna(-1)  # Use -1 to indicate \"No Artist Assigned\""
      ],
      "outputs": [],
      "execution_count": 14,
      "metadata": {
        "jupyter": {
          "source_hidden": false,
          "outputs_hidden": false
        },
        "nteract": {
          "transient": {
            "deleting": false
          }
        },
        "gather": {
          "logged": 1733286970402
        }
      }
    },
    {
      "cell_type": "code",
      "source": [
        "# Create a mapping of EventCity to EventStateId for non-missing rows\n",
        "city_state_mapping = df[df['EventStateId'].notna()].groupby('EventCity')['EventStateId'].agg(lambda x: x.mode()[0] if not x.empty else None)\n",
        "\n",
        "# Define a function to fill missing EventStateId based on EventCity\n",
        "def impute_event_state(row):\n",
        "    if pd.isna(row['EventStateId']):\n",
        "        return city_state_mapping.get(row['EventCity'], None)\n",
        "    return row['EventStateId']\n",
        "\n",
        "# Apply the function to impute missing values\n",
        "df['EventStateId'] = df.apply(impute_event_state, axis=1)\n",
        "\n",
        "# Handle remaining missing values in EventStateId\n",
        "df['EventStateId'].fillna(df['EventStateId'].mode()[0], inplace=True)\n",
        "\n",
        "# Verify the results\n",
        "print(df['EventStateId'].isna().sum())"
      ],
      "outputs": [
        {
          "output_type": "stream",
          "name": "stdout",
          "text": "0\n"
        }
      ],
      "execution_count": 15,
      "metadata": {
        "jupyter": {
          "source_hidden": false,
          "outputs_hidden": false
        },
        "nteract": {
          "transient": {
            "deleting": false
          }
        },
        "gather": {
          "logged": 1733286971795
        }
      }
    },
    {
      "cell_type": "code",
      "source": [
        "# Check missing values\n",
        "missing_summary = df.isnull().sum()\n",
        "missing_summary"
      ],
      "outputs": [
        {
          "output_type": "execute_result",
          "execution_count": 16,
          "data": {
            "text/plain": "LeadId                      0\nAgentId                  1511\nFirstName                   0\nLastName                    0\nEmailAddress               17\nPhoneNumber                17\nCanText                     0\nEventDate                1804\nEventVenueName             17\nEventCity                  17\nEventStateId                0\nEventTypeId                 0\nLeadSourceId                0\nArtistId                    0\nArtistName                 17\nParticipant1Name           17\nParticipant2Name           17\nParticipant1TypeId          0\nParticipant2TypeId          0\nEventNotes                 17\nReferralSource              0\nReferralArtistName         17\nReferralAgentName          17\nReferralEventDate          25\nReferralPresenterName      17\nReferralVenueName          17\nReferralContact            17\nReferralNotes              17\nSubmissionDate              0\nIsClosed                    0\nClosedDate                680\nWebData                    25\nCreatedDate                 0\nCreatedById                 0\nUpdatedDate                51\nUpdatedById                51\ndtype: int64"
          },
          "metadata": {}
        }
      ],
      "execution_count": 16,
      "metadata": {
        "jupyter": {
          "source_hidden": false,
          "outputs_hidden": false
        },
        "nteract": {
          "transient": {
            "deleting": false
          }
        },
        "gather": {
          "logged": 1733286971915
        }
      }
    },
    {
      "cell_type": "code",
      "source": [
        "# Group by FirstName and LastName and check if some rows have AgentId and others do not\n",
        "inconsistent_entries = (\n",
        "    df.groupby(['FirstName', 'LastName'])\n",
        "    .apply(lambda group: group['AgentId'].isnull().any() and group['AgentId'].notnull().any())\n",
        ")\n",
        "\n",
        "# Filter only the combinations where inconsistencies exist\n",
        "inconsistent_entries = inconsistent_entries[inconsistent_entries]\n",
        "\n",
        "if not inconsistent_entries.empty:\n",
        "    print(\"Inconsistent entries found:\")\n",
        "    print(inconsistent_entries)\n",
        "else:\n",
        "    print(\"No inconsistent entries found.\")"
      ],
      "outputs": [
        {
          "output_type": "stream",
          "name": "stdout",
          "text": "Inconsistent entries found:\nFirstName        LastName       \nAndrew           Hall               True\nAnna             Scott              True\nAshley           *                  True\nBethany          Brown              True\nBrian            Gillespie          True\n                 Jones              True\nCaroline         Romero             True\nChristen         Gillis             True\nClaire           Harvey             True\nClay             Griffin            True\nCorinna          Hedge              True\nCory             Schaefer           True\nDana             Smith              True\nDarlene          Garces             True\nDavid            Reid               True\nEllie Rayer      Rayer              True\nEric             Jones              True\nEricka           Gro                True\nErin             Everett            True\nGregorytycle     Gregorytycle       True\nHaroon           Iqbal              True\nHayley           Debell             True\nHolly            Strohm             True\nJane             Smith              True\nJennifer         Smith              True\nJoey             Simonton           True\nJonathan         Mark               True\nKatherine        Telfeyan           True\nKatie            Zacur              True\nKristel Marquez  Kristel Marquez    True\nLauren           Matthews           True\nLisa             Bochner            True\nMarie            Thomas             True\nMary             Jean               True\n                 Johnson            True\nMatthew          Thomas             True\nMelissa          Taylor             True\nMeredith         Jones              True\nMunroe           Buie               True\nNancy            Moreno             True\nNathanqueri      Nathanqueri        True\nNicole           Connor             True\nPatrick          Sullivan           True\nPaul             Miller             True\nRhonda           True               True\nRobyn            Wheeler            True\nRyan             Abrahamsen         True\nTest             Test               True\nVictoria         Richter            True\nWaleed           Iqbal              True\nWendell          Holmes             True\ndtype: bool\n"
        }
      ],
      "execution_count": 17,
      "metadata": {
        "jupyter": {
          "source_hidden": false,
          "outputs_hidden": false
        },
        "nteract": {
          "transient": {
            "deleting": false
          }
        },
        "gather": {
          "logged": 1733286978865
        }
      }
    },
    {
      "cell_type": "code",
      "source": [
        "if not inconsistent_entries.empty:\n",
        "    inconsistent_names = inconsistent_entries.index\n",
        "\n",
        "    # Iterate through each group with inconsistencies\n",
        "    for name in inconsistent_names:\n",
        "        first_name, last_name = name\n",
        "\n",
        "        # Filter groups by FirstName, LastName, and PhoneNumber\n",
        "        grouped_entries = df[(df['FirstName'] == first_name) & (df['LastName'] == last_name)]\n",
        "        phone_numbers = grouped_entries['PhoneNumber'].unique()\n",
        "\n",
        "        for phone_number in phone_numbers:\n",
        "            # Get the AgentId value for the group if it exists\n",
        "            agent_id_value = grouped_entries.loc[\n",
        "                (grouped_entries['PhoneNumber'] == phone_number) &\n",
        "                (grouped_entries['AgentId'].notnull()), 'AgentId'\n",
        "            ].iloc[0] if not grouped_entries.loc[\n",
        "                (grouped_entries['PhoneNumber'] == phone_number) &\n",
        "                (grouped_entries['AgentId'].notnull())].empty else None\n",
        "\n",
        "            # Fill missing AgentId values in the group\n",
        "            if agent_id_value:\n",
        "                df.loc[\n",
        "                    (df['FirstName'] == first_name) & \n",
        "                    (df['LastName'] == last_name) & \n",
        "                    (df['PhoneNumber'] == phone_number) & \n",
        "                    (df['AgentId'].isnull()), 'AgentId'\n",
        "                ] = agent_id_value\n"
      ],
      "outputs": [],
      "execution_count": 18,
      "metadata": {
        "jupyter": {
          "source_hidden": false,
          "outputs_hidden": false
        },
        "nteract": {
          "transient": {
            "deleting": false
          }
        },
        "gather": {
          "logged": 1733286980359
        }
      }
    },
    {
      "cell_type": "code",
      "source": [
        "# Check missing values\n",
        "missing_summary = df.isnull().sum()\n",
        "missing_summary"
      ],
      "outputs": [
        {
          "output_type": "execute_result",
          "execution_count": 19,
          "data": {
            "text/plain": "LeadId                      0\nAgentId                  1354\nFirstName                   0\nLastName                    0\nEmailAddress               17\nPhoneNumber                17\nCanText                     0\nEventDate                1804\nEventVenueName             17\nEventCity                  17\nEventStateId                0\nEventTypeId                 0\nLeadSourceId                0\nArtistId                    0\nArtistName                 17\nParticipant1Name           17\nParticipant2Name           17\nParticipant1TypeId          0\nParticipant2TypeId          0\nEventNotes                 17\nReferralSource              0\nReferralArtistName         17\nReferralAgentName          17\nReferralEventDate          25\nReferralPresenterName      17\nReferralVenueName          17\nReferralContact            17\nReferralNotes              17\nSubmissionDate              0\nIsClosed                    0\nClosedDate                680\nWebData                    25\nCreatedDate                 0\nCreatedById                 0\nUpdatedDate                51\nUpdatedById                51\ndtype: int64"
          },
          "metadata": {}
        }
      ],
      "execution_count": 19,
      "metadata": {
        "jupyter": {
          "source_hidden": false,
          "outputs_hidden": false
        },
        "nteract": {
          "transient": {
            "deleting": false
          }
        },
        "gather": {
          "logged": 1733286980519
        }
      }
    },
    {
      "cell_type": "code",
      "source": [
        "missing_agent_id_rows = df[df['AgentId'].isnull()]\n",
        "missing_agent_id_rows.head(20)"
      ],
      "outputs": [
        {
          "output_type": "execute_result",
          "execution_count": 20,
          "data": {
            "text/plain": "      LeadId  AgentId FirstName    LastName  \\\n0          1      NaN      Ryan  Abrahamsen   \n330      331      NaN      John        King   \n417      418      NaN    Johnny       Brown   \n420      421      NaN    Dalene      Burden   \n426      427      NaN  Jonathan    Wiegratz   \n446      447      NaN       Jim    Feniello   \n469      470      NaN    Rachel        Keco   \n511      512      NaN    Darryl     Strucke   \n558      559      NaN      Paul  Pierangeli   \n570      571      NaN    Cherri       Reams   \n649      650      NaN      Mark     Presley   \n799      800      NaN   Jackson        Wine   \n945      946      NaN    Hayley      Debell   \n1076    1077      NaN   Brandon     Spencer   \n1128    1129      NaN     Kiara    Anderson   \n1143    1144      NaN     Diane     Labonte   \n1186    1187      NaN    Robert     Gabriel   \n1232    1233      NaN     James      Knight   \n1330    1331      NaN       Tom     Babbitt   \n1367    1368      NaN     Kevin      Reeves   \n\n                             EmailAddress     PhoneNumber  CanText  EventDate  \\\n0                   ryan.a@teleofilms.com    804-677-1456     True 2018-06-29   \n330               johnkingmusic@gmail.com    706-768-2159     True 2018-06-29   \n417             jonathanbrownva@gmail.com    757-784-3551     True 2018-06-18   \n420                 day2luv1214@gmail.com    203-583-0027     True 2018-06-20   \n426            bostoncommonband@gmail.com    617-840-5580     True 2019-06-22   \n446                      info@them80s.com    412-760-6409     True 2018-06-19   \n469                  rachelkeco@gmail.com    706-726-6233     True 2018-06-30   \n511                motley2@rocketmail.com    661-670-1393     True 2018-06-22   \n558                   paulp.pgi@gmail.com    610-613-8514     True 2018-06-23   \n570                    NYCE2014@yahoo.com    917-548-6912     True 2018-06-24   \n649                marksmagic@comcast.net    224-318-8058     True 2018-06-01   \n799                     jaxwine@yahoo.com    828-508-9292     True 2018-10-06   \n945                hayleydebell@gmail.com  (706) 994-2881    False 2019-04-27   \n1076          brandon-spencer@outlook.com    316-680-0899     True 2018-07-31   \n1128                  akiara526@gmail.com    216-507-5874     True        NaT   \n1143  dlabonte@eastcoastentertainment.com  (804) 355-2178    False 2018-08-11   \n1186         robertgabrielmusic@gmail.com    703-220-3343     True 2018-07-31   \n1232               jlknight1230@gmail.com    908-216-9896     True 2018-07-19   \n1330                     tbabbitt@gwi.net    207-841-8500     True 2018-09-08   \n1367               reeveskeviny@gmail.com    316-851-7851     True        NaT   \n\n                 EventVenueName           EventCity  ...    ReferralContact  \\\n0                          test            Richmond  ...    ryan abrahamsen   \n330                         TBD           Nashville  ...          John King   \n417                         N/A                 N/A  ...       Johnny Brown   \n420                          NA                  NA  ...     Dalene  Burden   \n426                 New England         New England  ...  Jonathan Wiegratz   \n446                         Any          Pittsburgh  ...       Jim Feniello   \n469                Sacred Heart             Augusta  ...        Rachel Keco   \n511                         any      canyon country  ...     DARRYL STRUCKE   \n558                         N/A         Wallingford  ...    Paul Pierangeli   \n570                        NYCE        Richmond, VA  ...       Cherri Reams   \n649                       Magic             Chicago  ...       Mark Presley   \n799             185 King Street             Brevard  ...       Jackson Wine   \n945                255 Milledge              Athens  ...                      \n1076                         NA       Valley Center  ...    brandon spencer   \n1128                        N/A       Maple Heights  ...     Kiara Anderson   \n1143            Jefferson Hotel  North Chesterfield  ...                      \n1186                        any             Fairfax  ...     Robert Gabriel   \n1232                         Nj               Brick  ...       James Knight   \n1330  large modern photo studio        Newton, mass  ...        Tom Babbitt   \n1367                         78               India  ...       Kevin Reeves   \n\n      ReferralNotes          SubmissionDate  IsClosed              ClosedDate  \\\n0                   2018-06-03 21:00:47.037      True 2018-06-04 13:22:32.527   \n330                 2018-06-14 21:38:32.817      True 2018-06-15 09:13:36.073   \n417                 2018-06-18 18:31:18.600      True 2018-06-19 09:37:34.517   \n420                 2018-06-19 00:32:32.387      True 2018-06-19 09:32:22.610   \n426                 2018-06-19 10:38:41.557      True 2018-06-19 10:48:47.763   \n446                 2018-06-19 17:29:07.113      True 2018-06-19 19:01:39.903   \n469                 2018-06-20 11:55:23.267      True 2018-06-20 12:59:36.073   \n511                 2018-06-21 16:19:30.473      True 2018-06-21 18:54:20.053   \n558                 2018-06-23 14:16:32.243      True 2018-06-23 16:56:36.340   \n570                 2018-06-24 13:33:39.727      True 2018-06-24 13:52:28.203   \n649                 2018-06-27 12:27:35.080      True 2018-06-27 12:35:49.850   \n799                 2018-07-03 10:13:23.353      True 2018-07-03 10:16:53.093   \n945                 2018-07-09 14:25:50.373      True 2018-07-09 14:27:08.517   \n1076                2018-07-13 18:53:50.867      True 2018-07-14 10:22:33.123   \n1128                2018-07-16 10:17:25.260      True 2018-07-16 10:18:31.857   \n1143                2018-07-16 14:23:11.457      True 2018-07-16 14:24:07.663   \n1186                2018-07-17 22:32:45.170      True 2018-07-18 09:49:51.867   \n1232                2018-07-19 12:29:07.177      True 2018-07-19 12:35:48.157   \n1330                2018-07-23 21:25:13.217      True 2018-07-24 09:14:31.660   \n1367                2018-07-25 00:29:18.520      True 2018-07-25 10:01:00.157   \n\n                                                WebData  \\\n0     {\\r\\n  \"first_name\": \"ryan\",\\r\\n  \"last_name\":...   \n330   {\\r\\n  \"first_name\": \"John\",\\r\\n  \"last_name\":...   \n417   {\\r\\n  \"first_name\": \"Johnny\",\\r\\n  \"last_name...   \n420   {\\r\\n  \"first_name\": \"Dalene \",\\r\\n  \"last_nam...   \n426   {\\r\\n  \"first_name\": \"Jonathan\",\\r\\n  \"last_na...   \n446   {\\r\\n  \"first_name\": \"Jim\",\\r\\n  \"last_name\": ...   \n469   {\\r\\n  \"first_name\": \"Rachel\",\\r\\n  \"last_name...   \n511   {\\r\\n  \"first_name\": \"DARRYL\",\\r\\n  \"last_name...   \n558   {\\r\\n  \"first_name\": \"Paul\",\\r\\n  \"last_name\":...   \n570   {\\r\\n  \"first_name\": \"Cherri\",\\r\\n  \"last_name...   \n649   {\\r\\n  \"first_name\": \"Mark\",\\r\\n  \"last_name\":...   \n799   {\\r\\n  \"first_name\": \"Jackson\",\\r\\n  \"last_nam...   \n945                                                       \n1076  {\\r\\n  \"first_name\": \"brandon\",\\r\\n  \"last_nam...   \n1128  {\\r\\n  \"first_name\": \"Kiara\",\\r\\n  \"last_name\"...   \n1143                                                      \n1186  {\\r\\n  \"first_name\": \"Robert\",\\r\\n  \"last_name...   \n1232  {\\r\\n  \"first_name\": \"James\",\\r\\n  \"last_name\"...   \n1330  {\\r\\n  \"first_name\": \"Tom\",\\r\\n  \"last_name\": ...   \n1367  {\\r\\n  \"first_name\": \"Kevin\",\\r\\n  \"last_name\"...   \n\n                 CreatedDate CreatedById             UpdatedDate UpdatedById  \n0    2018-06-03 21:00:47.037      999999 2018-06-04 13:22:32.527       182.0  \n330  2018-06-14 21:38:32.817      999999 2018-06-15 09:13:36.073       469.0  \n417  2018-06-18 18:31:18.600      999999 2018-06-19 09:37:34.517       182.0  \n420  2018-06-19 00:32:32.387      999999 2018-06-19 09:32:22.610       182.0  \n426  2018-06-19 10:38:41.557      999999 2018-06-19 10:48:47.763       182.0  \n446  2018-06-19 17:29:07.113      999999 2018-06-19 19:01:39.903       182.0  \n469  2018-06-20 11:55:23.267      999999 2018-06-20 12:59:36.073       182.0  \n511  2018-06-21 16:19:30.473      999999 2018-06-21 18:54:20.053       182.0  \n558  2018-06-23 14:16:32.243      999999 2018-06-23 16:56:36.340       182.0  \n570  2018-06-24 13:33:39.727      999999 2018-06-24 13:52:28.203       182.0  \n649  2018-06-27 12:27:35.080      999999 2018-06-27 12:35:49.850       182.0  \n799  2018-07-03 10:13:23.353      999999 2018-07-03 10:16:53.093       182.0  \n945  2018-07-09 14:25:50.373         182 2018-07-09 14:27:08.517       182.0  \n1076 2018-07-13 18:53:50.867      999999 2018-07-14 10:22:33.123       182.0  \n1128 2018-07-16 10:17:25.260      999999 2018-07-16 10:18:31.857       182.0  \n1143 2018-07-16 14:23:11.457         182 2018-07-16 14:24:07.663       182.0  \n1186 2018-07-17 22:32:45.170      999999 2018-07-18 09:49:51.867       182.0  \n1232 2018-07-19 12:29:07.177      999999 2018-07-19 12:35:48.157       182.0  \n1330 2018-07-23 21:25:13.217      999999 2018-07-24 09:14:31.660       182.0  \n1367 2018-07-25 00:29:18.520      999999 2018-07-25 10:01:00.157       182.0  \n\n[20 rows x 36 columns]",
            "text/html": "<div>\n<style scoped>\n    .dataframe tbody tr th:only-of-type {\n        vertical-align: middle;\n    }\n\n    .dataframe tbody tr th {\n        vertical-align: top;\n    }\n\n    .dataframe thead th {\n        text-align: right;\n    }\n</style>\n<table border=\"1\" class=\"dataframe\">\n  <thead>\n    <tr style=\"text-align: right;\">\n      <th></th>\n      <th>LeadId</th>\n      <th>AgentId</th>\n      <th>FirstName</th>\n      <th>LastName</th>\n      <th>EmailAddress</th>\n      <th>PhoneNumber</th>\n      <th>CanText</th>\n      <th>EventDate</th>\n      <th>EventVenueName</th>\n      <th>EventCity</th>\n      <th>...</th>\n      <th>ReferralContact</th>\n      <th>ReferralNotes</th>\n      <th>SubmissionDate</th>\n      <th>IsClosed</th>\n      <th>ClosedDate</th>\n      <th>WebData</th>\n      <th>CreatedDate</th>\n      <th>CreatedById</th>\n      <th>UpdatedDate</th>\n      <th>UpdatedById</th>\n    </tr>\n  </thead>\n  <tbody>\n    <tr>\n      <th>0</th>\n      <td>1</td>\n      <td>NaN</td>\n      <td>Ryan</td>\n      <td>Abrahamsen</td>\n      <td>ryan.a@teleofilms.com</td>\n      <td>804-677-1456</td>\n      <td>True</td>\n      <td>2018-06-29</td>\n      <td>test</td>\n      <td>Richmond</td>\n      <td>...</td>\n      <td>ryan abrahamsen</td>\n      <td></td>\n      <td>2018-06-03 21:00:47.037</td>\n      <td>True</td>\n      <td>2018-06-04 13:22:32.527</td>\n      <td>{\\r\\n  \"first_name\": \"ryan\",\\r\\n  \"last_name\":...</td>\n      <td>2018-06-03 21:00:47.037</td>\n      <td>999999</td>\n      <td>2018-06-04 13:22:32.527</td>\n      <td>182.0</td>\n    </tr>\n    <tr>\n      <th>330</th>\n      <td>331</td>\n      <td>NaN</td>\n      <td>John</td>\n      <td>King</td>\n      <td>johnkingmusic@gmail.com</td>\n      <td>706-768-2159</td>\n      <td>True</td>\n      <td>2018-06-29</td>\n      <td>TBD</td>\n      <td>Nashville</td>\n      <td>...</td>\n      <td>John King</td>\n      <td></td>\n      <td>2018-06-14 21:38:32.817</td>\n      <td>True</td>\n      <td>2018-06-15 09:13:36.073</td>\n      <td>{\\r\\n  \"first_name\": \"John\",\\r\\n  \"last_name\":...</td>\n      <td>2018-06-14 21:38:32.817</td>\n      <td>999999</td>\n      <td>2018-06-15 09:13:36.073</td>\n      <td>469.0</td>\n    </tr>\n    <tr>\n      <th>417</th>\n      <td>418</td>\n      <td>NaN</td>\n      <td>Johnny</td>\n      <td>Brown</td>\n      <td>jonathanbrownva@gmail.com</td>\n      <td>757-784-3551</td>\n      <td>True</td>\n      <td>2018-06-18</td>\n      <td>N/A</td>\n      <td>N/A</td>\n      <td>...</td>\n      <td>Johnny Brown</td>\n      <td></td>\n      <td>2018-06-18 18:31:18.600</td>\n      <td>True</td>\n      <td>2018-06-19 09:37:34.517</td>\n      <td>{\\r\\n  \"first_name\": \"Johnny\",\\r\\n  \"last_name...</td>\n      <td>2018-06-18 18:31:18.600</td>\n      <td>999999</td>\n      <td>2018-06-19 09:37:34.517</td>\n      <td>182.0</td>\n    </tr>\n    <tr>\n      <th>420</th>\n      <td>421</td>\n      <td>NaN</td>\n      <td>Dalene</td>\n      <td>Burden</td>\n      <td>day2luv1214@gmail.com</td>\n      <td>203-583-0027</td>\n      <td>True</td>\n      <td>2018-06-20</td>\n      <td>NA</td>\n      <td>NA</td>\n      <td>...</td>\n      <td>Dalene  Burden</td>\n      <td></td>\n      <td>2018-06-19 00:32:32.387</td>\n      <td>True</td>\n      <td>2018-06-19 09:32:22.610</td>\n      <td>{\\r\\n  \"first_name\": \"Dalene \",\\r\\n  \"last_nam...</td>\n      <td>2018-06-19 00:32:32.387</td>\n      <td>999999</td>\n      <td>2018-06-19 09:32:22.610</td>\n      <td>182.0</td>\n    </tr>\n    <tr>\n      <th>426</th>\n      <td>427</td>\n      <td>NaN</td>\n      <td>Jonathan</td>\n      <td>Wiegratz</td>\n      <td>bostoncommonband@gmail.com</td>\n      <td>617-840-5580</td>\n      <td>True</td>\n      <td>2019-06-22</td>\n      <td>New England</td>\n      <td>New England</td>\n      <td>...</td>\n      <td>Jonathan Wiegratz</td>\n      <td></td>\n      <td>2018-06-19 10:38:41.557</td>\n      <td>True</td>\n      <td>2018-06-19 10:48:47.763</td>\n      <td>{\\r\\n  \"first_name\": \"Jonathan\",\\r\\n  \"last_na...</td>\n      <td>2018-06-19 10:38:41.557</td>\n      <td>999999</td>\n      <td>2018-06-19 10:48:47.763</td>\n      <td>182.0</td>\n    </tr>\n    <tr>\n      <th>446</th>\n      <td>447</td>\n      <td>NaN</td>\n      <td>Jim</td>\n      <td>Feniello</td>\n      <td>info@them80s.com</td>\n      <td>412-760-6409</td>\n      <td>True</td>\n      <td>2018-06-19</td>\n      <td>Any</td>\n      <td>Pittsburgh</td>\n      <td>...</td>\n      <td>Jim Feniello</td>\n      <td></td>\n      <td>2018-06-19 17:29:07.113</td>\n      <td>True</td>\n      <td>2018-06-19 19:01:39.903</td>\n      <td>{\\r\\n  \"first_name\": \"Jim\",\\r\\n  \"last_name\": ...</td>\n      <td>2018-06-19 17:29:07.113</td>\n      <td>999999</td>\n      <td>2018-06-19 19:01:39.903</td>\n      <td>182.0</td>\n    </tr>\n    <tr>\n      <th>469</th>\n      <td>470</td>\n      <td>NaN</td>\n      <td>Rachel</td>\n      <td>Keco</td>\n      <td>rachelkeco@gmail.com</td>\n      <td>706-726-6233</td>\n      <td>True</td>\n      <td>2018-06-30</td>\n      <td>Sacred Heart</td>\n      <td>Augusta</td>\n      <td>...</td>\n      <td>Rachel Keco</td>\n      <td></td>\n      <td>2018-06-20 11:55:23.267</td>\n      <td>True</td>\n      <td>2018-06-20 12:59:36.073</td>\n      <td>{\\r\\n  \"first_name\": \"Rachel\",\\r\\n  \"last_name...</td>\n      <td>2018-06-20 11:55:23.267</td>\n      <td>999999</td>\n      <td>2018-06-20 12:59:36.073</td>\n      <td>182.0</td>\n    </tr>\n    <tr>\n      <th>511</th>\n      <td>512</td>\n      <td>NaN</td>\n      <td>Darryl</td>\n      <td>Strucke</td>\n      <td>motley2@rocketmail.com</td>\n      <td>661-670-1393</td>\n      <td>True</td>\n      <td>2018-06-22</td>\n      <td>any</td>\n      <td>canyon country</td>\n      <td>...</td>\n      <td>DARRYL STRUCKE</td>\n      <td></td>\n      <td>2018-06-21 16:19:30.473</td>\n      <td>True</td>\n      <td>2018-06-21 18:54:20.053</td>\n      <td>{\\r\\n  \"first_name\": \"DARRYL\",\\r\\n  \"last_name...</td>\n      <td>2018-06-21 16:19:30.473</td>\n      <td>999999</td>\n      <td>2018-06-21 18:54:20.053</td>\n      <td>182.0</td>\n    </tr>\n    <tr>\n      <th>558</th>\n      <td>559</td>\n      <td>NaN</td>\n      <td>Paul</td>\n      <td>Pierangeli</td>\n      <td>paulp.pgi@gmail.com</td>\n      <td>610-613-8514</td>\n      <td>True</td>\n      <td>2018-06-23</td>\n      <td>N/A</td>\n      <td>Wallingford</td>\n      <td>...</td>\n      <td>Paul Pierangeli</td>\n      <td></td>\n      <td>2018-06-23 14:16:32.243</td>\n      <td>True</td>\n      <td>2018-06-23 16:56:36.340</td>\n      <td>{\\r\\n  \"first_name\": \"Paul\",\\r\\n  \"last_name\":...</td>\n      <td>2018-06-23 14:16:32.243</td>\n      <td>999999</td>\n      <td>2018-06-23 16:56:36.340</td>\n      <td>182.0</td>\n    </tr>\n    <tr>\n      <th>570</th>\n      <td>571</td>\n      <td>NaN</td>\n      <td>Cherri</td>\n      <td>Reams</td>\n      <td>NYCE2014@yahoo.com</td>\n      <td>917-548-6912</td>\n      <td>True</td>\n      <td>2018-06-24</td>\n      <td>NYCE</td>\n      <td>Richmond, VA</td>\n      <td>...</td>\n      <td>Cherri Reams</td>\n      <td></td>\n      <td>2018-06-24 13:33:39.727</td>\n      <td>True</td>\n      <td>2018-06-24 13:52:28.203</td>\n      <td>{\\r\\n  \"first_name\": \"Cherri\",\\r\\n  \"last_name...</td>\n      <td>2018-06-24 13:33:39.727</td>\n      <td>999999</td>\n      <td>2018-06-24 13:52:28.203</td>\n      <td>182.0</td>\n    </tr>\n    <tr>\n      <th>649</th>\n      <td>650</td>\n      <td>NaN</td>\n      <td>Mark</td>\n      <td>Presley</td>\n      <td>marksmagic@comcast.net</td>\n      <td>224-318-8058</td>\n      <td>True</td>\n      <td>2018-06-01</td>\n      <td>Magic</td>\n      <td>Chicago</td>\n      <td>...</td>\n      <td>Mark Presley</td>\n      <td></td>\n      <td>2018-06-27 12:27:35.080</td>\n      <td>True</td>\n      <td>2018-06-27 12:35:49.850</td>\n      <td>{\\r\\n  \"first_name\": \"Mark\",\\r\\n  \"last_name\":...</td>\n      <td>2018-06-27 12:27:35.080</td>\n      <td>999999</td>\n      <td>2018-06-27 12:35:49.850</td>\n      <td>182.0</td>\n    </tr>\n    <tr>\n      <th>799</th>\n      <td>800</td>\n      <td>NaN</td>\n      <td>Jackson</td>\n      <td>Wine</td>\n      <td>jaxwine@yahoo.com</td>\n      <td>828-508-9292</td>\n      <td>True</td>\n      <td>2018-10-06</td>\n      <td>185 King Street</td>\n      <td>Brevard</td>\n      <td>...</td>\n      <td>Jackson Wine</td>\n      <td></td>\n      <td>2018-07-03 10:13:23.353</td>\n      <td>True</td>\n      <td>2018-07-03 10:16:53.093</td>\n      <td>{\\r\\n  \"first_name\": \"Jackson\",\\r\\n  \"last_nam...</td>\n      <td>2018-07-03 10:13:23.353</td>\n      <td>999999</td>\n      <td>2018-07-03 10:16:53.093</td>\n      <td>182.0</td>\n    </tr>\n    <tr>\n      <th>945</th>\n      <td>946</td>\n      <td>NaN</td>\n      <td>Hayley</td>\n      <td>Debell</td>\n      <td>hayleydebell@gmail.com</td>\n      <td>(706) 994-2881</td>\n      <td>False</td>\n      <td>2019-04-27</td>\n      <td>255 Milledge</td>\n      <td>Athens</td>\n      <td>...</td>\n      <td></td>\n      <td></td>\n      <td>2018-07-09 14:25:50.373</td>\n      <td>True</td>\n      <td>2018-07-09 14:27:08.517</td>\n      <td></td>\n      <td>2018-07-09 14:25:50.373</td>\n      <td>182</td>\n      <td>2018-07-09 14:27:08.517</td>\n      <td>182.0</td>\n    </tr>\n    <tr>\n      <th>1076</th>\n      <td>1077</td>\n      <td>NaN</td>\n      <td>Brandon</td>\n      <td>Spencer</td>\n      <td>brandon-spencer@outlook.com</td>\n      <td>316-680-0899</td>\n      <td>True</td>\n      <td>2018-07-31</td>\n      <td>NA</td>\n      <td>Valley Center</td>\n      <td>...</td>\n      <td>brandon spencer</td>\n      <td></td>\n      <td>2018-07-13 18:53:50.867</td>\n      <td>True</td>\n      <td>2018-07-14 10:22:33.123</td>\n      <td>{\\r\\n  \"first_name\": \"brandon\",\\r\\n  \"last_nam...</td>\n      <td>2018-07-13 18:53:50.867</td>\n      <td>999999</td>\n      <td>2018-07-14 10:22:33.123</td>\n      <td>182.0</td>\n    </tr>\n    <tr>\n      <th>1128</th>\n      <td>1129</td>\n      <td>NaN</td>\n      <td>Kiara</td>\n      <td>Anderson</td>\n      <td>akiara526@gmail.com</td>\n      <td>216-507-5874</td>\n      <td>True</td>\n      <td>NaT</td>\n      <td>N/A</td>\n      <td>Maple Heights</td>\n      <td>...</td>\n      <td>Kiara Anderson</td>\n      <td></td>\n      <td>2018-07-16 10:17:25.260</td>\n      <td>True</td>\n      <td>2018-07-16 10:18:31.857</td>\n      <td>{\\r\\n  \"first_name\": \"Kiara\",\\r\\n  \"last_name\"...</td>\n      <td>2018-07-16 10:17:25.260</td>\n      <td>999999</td>\n      <td>2018-07-16 10:18:31.857</td>\n      <td>182.0</td>\n    </tr>\n    <tr>\n      <th>1143</th>\n      <td>1144</td>\n      <td>NaN</td>\n      <td>Diane</td>\n      <td>Labonte</td>\n      <td>dlabonte@eastcoastentertainment.com</td>\n      <td>(804) 355-2178</td>\n      <td>False</td>\n      <td>2018-08-11</td>\n      <td>Jefferson Hotel</td>\n      <td>North Chesterfield</td>\n      <td>...</td>\n      <td></td>\n      <td></td>\n      <td>2018-07-16 14:23:11.457</td>\n      <td>True</td>\n      <td>2018-07-16 14:24:07.663</td>\n      <td></td>\n      <td>2018-07-16 14:23:11.457</td>\n      <td>182</td>\n      <td>2018-07-16 14:24:07.663</td>\n      <td>182.0</td>\n    </tr>\n    <tr>\n      <th>1186</th>\n      <td>1187</td>\n      <td>NaN</td>\n      <td>Robert</td>\n      <td>Gabriel</td>\n      <td>robertgabrielmusic@gmail.com</td>\n      <td>703-220-3343</td>\n      <td>True</td>\n      <td>2018-07-31</td>\n      <td>any</td>\n      <td>Fairfax</td>\n      <td>...</td>\n      <td>Robert Gabriel</td>\n      <td></td>\n      <td>2018-07-17 22:32:45.170</td>\n      <td>True</td>\n      <td>2018-07-18 09:49:51.867</td>\n      <td>{\\r\\n  \"first_name\": \"Robert\",\\r\\n  \"last_name...</td>\n      <td>2018-07-17 22:32:45.170</td>\n      <td>999999</td>\n      <td>2018-07-18 09:49:51.867</td>\n      <td>182.0</td>\n    </tr>\n    <tr>\n      <th>1232</th>\n      <td>1233</td>\n      <td>NaN</td>\n      <td>James</td>\n      <td>Knight</td>\n      <td>jlknight1230@gmail.com</td>\n      <td>908-216-9896</td>\n      <td>True</td>\n      <td>2018-07-19</td>\n      <td>Nj</td>\n      <td>Brick</td>\n      <td>...</td>\n      <td>James Knight</td>\n      <td></td>\n      <td>2018-07-19 12:29:07.177</td>\n      <td>True</td>\n      <td>2018-07-19 12:35:48.157</td>\n      <td>{\\r\\n  \"first_name\": \"James\",\\r\\n  \"last_name\"...</td>\n      <td>2018-07-19 12:29:07.177</td>\n      <td>999999</td>\n      <td>2018-07-19 12:35:48.157</td>\n      <td>182.0</td>\n    </tr>\n    <tr>\n      <th>1330</th>\n      <td>1331</td>\n      <td>NaN</td>\n      <td>Tom</td>\n      <td>Babbitt</td>\n      <td>tbabbitt@gwi.net</td>\n      <td>207-841-8500</td>\n      <td>True</td>\n      <td>2018-09-08</td>\n      <td>large modern photo studio</td>\n      <td>Newton, mass</td>\n      <td>...</td>\n      <td>Tom Babbitt</td>\n      <td></td>\n      <td>2018-07-23 21:25:13.217</td>\n      <td>True</td>\n      <td>2018-07-24 09:14:31.660</td>\n      <td>{\\r\\n  \"first_name\": \"Tom\",\\r\\n  \"last_name\": ...</td>\n      <td>2018-07-23 21:25:13.217</td>\n      <td>999999</td>\n      <td>2018-07-24 09:14:31.660</td>\n      <td>182.0</td>\n    </tr>\n    <tr>\n      <th>1367</th>\n      <td>1368</td>\n      <td>NaN</td>\n      <td>Kevin</td>\n      <td>Reeves</td>\n      <td>reeveskeviny@gmail.com</td>\n      <td>316-851-7851</td>\n      <td>True</td>\n      <td>NaT</td>\n      <td>78</td>\n      <td>India</td>\n      <td>...</td>\n      <td>Kevin Reeves</td>\n      <td></td>\n      <td>2018-07-25 00:29:18.520</td>\n      <td>True</td>\n      <td>2018-07-25 10:01:00.157</td>\n      <td>{\\r\\n  \"first_name\": \"Kevin\",\\r\\n  \"last_name\"...</td>\n      <td>2018-07-25 00:29:18.520</td>\n      <td>999999</td>\n      <td>2018-07-25 10:01:00.157</td>\n      <td>182.0</td>\n    </tr>\n  </tbody>\n</table>\n<p>20 rows × 36 columns</p>\n</div>"
          },
          "metadata": {}
        }
      ],
      "execution_count": 20,
      "metadata": {
        "jupyter": {
          "source_hidden": false,
          "outputs_hidden": false
        },
        "nteract": {
          "transient": {
            "deleting": false
          }
        },
        "gather": {
          "logged": 1733286980633
        }
      }
    },
    {
      "cell_type": "code",
      "source": [
        "# Check for missing AgentId and count occurrences of each agent by name\n",
        "missing_agents_count = (\n",
        "    df[df['AgentId'].isna()]  # Filter rows with missing AgentId\n",
        "    .groupby(['FirstName', 'LastName'])  # Group by FirstName and LastName\n",
        "    .size()  # Count occurrences\n",
        "    .reset_index(name='Count')  # Reset index and name the count column\n",
        "    .sort_values(by='Count', ascending=False)  # Sort by count in descending order\n",
        ")\n",
        "\n",
        "print(missing_agents_count)"
      ],
      "outputs": [
        {
          "output_type": "stream",
          "name": "stdout",
          "text": "          FirstName        LastName  Count\n261      Eric Jones      Eric Jones     59\n80           Ashley          Sparks     51\n785            Ryan      Abrahamsen     27\n868            Test            Test     18\n323          Haroon           Iqbal     15\n..              ...             ...    ...\n345    Isabellanift    Isabellanift      1\n346      Isabellasr      Isabellasr      1\n347  Isabelle Roxon  Isabelle Roxon      1\n348        Isascugs        Isascugs      1\n955       Zithrodog       Zithrodog      1\n\n[956 rows x 3 columns]\n"
        }
      ],
      "execution_count": 21,
      "metadata": {
        "jupyter": {
          "source_hidden": false,
          "outputs_hidden": false
        },
        "nteract": {
          "transient": {
            "deleting": false
          }
        },
        "gather": {
          "logged": 1733286980753
        }
      }
    },
    {
      "cell_type": "code",
      "source": [
        "# Identify rows where FirstName includes the full name (same as LastName)\n",
        "incorrect_names = df[df['FirstName'] == df['LastName']]\n",
        "\n",
        "if not incorrect_names.empty:\n",
        "    print(\"Rows with incorrect names:\")\n",
        "    print(incorrect_names)\n",
        "\n",
        "    # Split the FirstName into FirstName and LastName based on a space\n",
        "    for index, row in incorrect_names.iterrows():\n",
        "        if ' ' in row['FirstName']:\n",
        "            first_name, last_name = row['FirstName'].split(' ', 1)  # Split into two parts\n",
        "            df.at[index, 'FirstName'] = first_name\n",
        "            df.at[index, 'LastName'] = last_name\n",
        "\n",
        "# Display the corrected DataFrame\n",
        "print(\"Corrected DataFrame:\")\n",
        "print(df)\n",
        "\n"
      ],
      "outputs": [
        {
          "output_type": "stream",
          "name": "stdout",
          "text": "Rows with incorrect names:\n       LeadId  AgentId          FirstName           LastName  \\\n1464     1465    221.0  Sidharth Pattnaik  Sidharth Pattnaik   \n3170     3171      NaN               Test               Test   \n4025     4026    467.0               Feng               Feng   \n6734     6737      NaN                 Ff                 Ff   \n6763     6766      NaN                Sss                Sss   \n...       ...      ...                ...                ...   \n46610   48734      3.0               Test               Test   \n46611   48735      3.0               Test               Test   \n46612   48736      3.0               Test               Test   \n46618   48742      3.0               Test               Test   \n46619   48743      3.0               Test               Test   \n\n                        EmailAddress     PhoneNumber  CanText  EventDate  \\\n1464           sales@converthink.com    985-389-2894     True 2018-07-31   \n3170                   test@test.com    888-888-8888     True 2018-10-27   \n4025         weensyhuang@hotmail.com  (999) 999-9999    False 2018-12-29   \n6734                              ff  (656) 565-6565    False        NaT   \n6763    hello.djpaulashrum@gmail.com  (555) 555-5555    False        NaT   \n...                              ...             ...      ...        ...   \n46610  darshan.barot@dashtechinc.com  (111) 111-1111    False 2024-01-29   \n46611           test2025@yopmail.com  (111) 111-1111    False 2024-03-04   \n46612              rrrrr@yopmail.com  (111) 111-1111    False 2024-01-29   \n46618                                 (111) 111-1111    False 2024-01-12   \n46619                                 (111) 111-1111    False 2024-01-31   \n\n          EventVenueName    EventCity  ...  \\\n1464                  IN  Bhubaneswar  ...   \n3170                test         test  ...   \n4025   Southwest Ranches        Miami  ...   \n6734                                   ...   \n6763                         Richmond  ...   \n...                  ...          ...  ...   \n46610               test      Malvern  ...   \n46611               test     COLUMBIA  ...   \n46612                tes      Malvern  ...   \n46618                tes      Malvern  ...   \n46619               test      Malvern  ...   \n\n                           ReferralContact  \\\n1464   Sidharth Pattnaik Sidharth Pattnaik   \n3170                             test test   \n4025                                         \n6734                                         \n6763                                         \n...                                    ...   \n46610                            test test   \n46611                       test presenter   \n46612                            test test   \n46618                            test test   \n46619                            test test   \n\n                                         ReferralNotes  \\\n1464                                                     \n3170                                                     \n4025   wed start time 9:30 am 1.5 hours guest 51 - 100   \n6734                                                     \n6763                                                     \n...                                                ...   \n46610                                                    \n46611                                                    \n46612                                                    \n46618                                                    \n46619                                                    \n\n               SubmissionDate  IsClosed              ClosedDate  \\\n1464  2018-07-30 09:00:08.790      True 2018-07-30 13:12:31.303   \n3170  2018-10-15 19:12:16.393      True 2018-10-16 09:42:20.003   \n4025  2018-11-26 14:01:52.917      True 2023-05-05 10:39:38.293   \n6734  2019-03-12 11:15:23.307      True 2019-03-12 11:43:19.673   \n6763  2019-03-13 11:03:29.293      True 2019-03-13 11:04:08.497   \n...                       ...       ...                     ...   \n46610 2024-02-21 17:48:58.827     False                     NaT   \n46611 2024-02-21 17:54:53.633     False                     NaT   \n46612 2024-02-21 18:12:58.793     False                     NaT   \n46618 2024-02-23 13:01:31.040     False                     NaT   \n46619 2024-02-23 13:03:35.087     False                     NaT   \n\n                                                 WebData  \\\n1464   {\\r\\n  \"first_name\": \"Sidharth Pattnaik\",\\r\\n ...   \n3170   {\\r\\n  \"first_name\": \"test\",\\r\\n  \"last_name\":...   \n4025                                                       \n6734                                                       \n6763                                                       \n...                                                  ...   \n46610                                                      \n46611                                                      \n46612                                                      \n46618                                                      \n46619                                                      \n\n                  CreatedDate CreatedById             UpdatedDate UpdatedById  \n1464  2018-07-30 09:00:08.790      999999 2018-07-30 13:12:31.303       221.0  \n3170  2018-10-15 19:12:16.393      999999 2018-10-16 09:42:20.003       182.0  \n4025  2018-11-26 14:01:52.917         182 2023-05-05 10:39:38.293   1000428.0  \n6734  2019-03-12 11:15:23.307         388 2019-03-12 11:43:19.673       182.0  \n6763  2019-03-13 11:03:29.293         388 2019-03-13 11:04:08.497       388.0  \n...                       ...         ...                     ...         ...  \n46610 2024-02-21 17:48:58.827           3                     NaT         NaN  \n46611 2024-02-21 17:54:53.633           3 2024-02-21 18:11:51.520         3.0  \n46612 2024-02-21 18:12:58.793           3 2024-02-21 18:14:05.380         3.0  \n46618 2024-02-23 13:01:31.040           3                     NaT         NaN  \n46619 2024-02-23 13:03:35.087           3 2024-02-23 13:09:41.867         3.0  \n\n[752 rows x 36 columns]\nCorrected DataFrame:\n       LeadId  AgentId FirstName    LastName               EmailAddress  \\\n0           1      NaN      Ryan  Abrahamsen      ryan.a@teleofilms.com   \n1           2    106.0    Joseph    Hallahan         jhal.gwu@gmail.com   \n2           3    253.0   Caitlin     Whissel        cewhissel@gmail.com   \n3           4    307.0      Ryan      Brewer       Mrbrewer42@gmail.com   \n4           5    417.0   Presley     Bennett      psbennett92@gmail.com   \n...       ...      ...       ...         ...                        ...   \n46641   49758      NaN     Scott           H        shaynes@bookece.com   \n46642   49759      NaN    Suresh  Vadodariya  suresh.dv@dashtechinc.com   \n46643   49760      NaN     Scott           H        shaynes@bookece.com   \n46644   49761      NaN    Suresh  Vadodariya  suresh.dv@dashtechinc.com   \n46645   49762      NaN      John       Smith                       None   \n\n        PhoneNumber  CanText  EventDate        EventVenueName      EventCity  \\\n0      804-677-1456     True 2018-06-29                  test       Richmond   \n1      315-657-6942     True 2018-10-14  The Market at Grelen       Somerset   \n2      410-707-0975     True 2018-10-27                   TBD  Davidsonville   \n3      704-241-6229     True 2018-08-18  Old North State Club     New London   \n4      662-902-6385     True 2019-03-16            Sea Island     Sea Island   \n...             ...      ...        ...                   ...            ...   \n46641    1984889842     True 2024-06-04       The Little Nell          Aspen   \n46642   19638407536    False 2024-08-06       The Little Nell          Aspen   \n46643    1984889842     True 2024-06-04       The Little Nell          Aspen   \n46644   19638407536    False 2024-08-06       The Little Nell          Aspen   \n46645          None    False        NaT                  None           None   \n\n       ...  ReferralContact          ReferralNotes          SubmissionDate  \\\n0      ...  ryan abrahamsen                        2018-06-03 21:00:47.037   \n1      ...  Joseph Hallahan                        2018-06-03 23:30:16.323   \n2      ...  Caitlin Whissel                        2018-06-04 08:54:21.080   \n3      ...      Ryan Brewer                        2018-06-04 10:00:54.437   \n4      ...  Presley Bennett                        2018-06-04 10:20:04.570   \n...    ...              ...                    ...                     ...   \n46641  ...                   Please cheapest price 2024-05-28 11:48:13.267   \n46642  ...                   Please cheapest price 2024-05-28 11:48:13.273   \n46643  ...                   Please cheapest price 2024-05-28 13:05:31.550   \n46644  ...                   Please cheapest price 2024-05-28 13:05:31.557   \n46645  ...             None                   None 2024-11-11 08:12:42.157   \n\n       IsClosed              ClosedDate  \\\n0          True 2018-06-04 13:22:32.527   \n1          True 2018-06-04 11:20:56.937   \n2          True 2018-06-04 15:13:50.657   \n3          True 2018-06-04 17:53:08.677   \n4          True 2018-06-05 11:32:12.447   \n...         ...                     ...   \n46641     False                     NaT   \n46642     False                     NaT   \n46643     False                     NaT   \n46644     False                     NaT   \n46645     False                     NaT   \n\n                                                 WebData  \\\n0      {\\r\\n  \"first_name\": \"ryan\",\\r\\n  \"last_name\":...   \n1      {\\r\\n  \"first_name\": \"Joseph\",\\r\\n  \"last_name...   \n2      {\\r\\n  \"first_name\": \"Caitlin\",\\r\\n  \"last_nam...   \n3      {\\r\\n  \"first_name\": \"Ryan\",\\r\\n  \"last_name\":...   \n4      {\\r\\n  \"first_name\": \"Presley\",\\r\\n  \"last_nam...   \n...                                                  ...   \n46641                                               None   \n46642                                               None   \n46643                                               None   \n46644                                               None   \n46645                                               None   \n\n                  CreatedDate CreatedById             UpdatedDate UpdatedById  \n0     2018-06-03 21:00:47.037      999999 2018-06-04 13:22:32.527       182.0  \n1     2018-06-03 23:30:16.323      999999 2018-06-04 11:20:56.937       182.0  \n2     2018-06-04 08:54:21.080      999999 2018-06-04 15:13:50.657       253.0  \n3     2018-06-04 10:00:54.437      999999 2018-06-04 17:53:08.677       307.0  \n4     2018-06-04 10:20:04.570      999999 2018-06-05 11:32:12.447       417.0  \n...                       ...         ...                     ...         ...  \n46641 2024-05-28 11:48:13.267           3                     NaT         NaN  \n46642 2024-05-28 11:48:13.273           3                     NaT         NaN  \n46643 2024-05-28 13:05:31.550           3                     NaT         NaN  \n46644 2024-05-28 13:05:31.557           3                     NaT         NaN  \n46645 2024-11-11 08:12:42.157           0                     NaT         NaN  \n\n[46646 rows x 36 columns]\n"
        }
      ],
      "execution_count": 22,
      "metadata": {
        "jupyter": {
          "source_hidden": false,
          "outputs_hidden": false
        },
        "nteract": {
          "transient": {
            "deleting": false
          }
        },
        "gather": {
          "logged": 1733286980863
        }
      }
    },
    {
      "cell_type": "code",
      "source": [
        "missing_agents_count = (\n",
        "    df[df['AgentId'].isna()]  # Filter rows with missing AgentId\n",
        "    .groupby(['FirstName', 'LastName'])  # Group by FirstName and LastName\n",
        "    .size()  # Count occurrences\n",
        "    .reset_index(name='Count')  # Reset index and name the count column\n",
        "    .sort_values(by='Count', ascending=False)  # Sort by count in descending order\n",
        ")\n",
        "\n",
        "print(missing_agents_count)"
      ],
      "outputs": [
        {
          "output_type": "stream",
          "name": "stdout",
          "text": "     FirstName    LastName  Count\n259       Eric       Jones     60\n80      Ashley      Sparks     51\n782       Ryan  Abrahamsen     27\n865       Test        Test     18\n321     Haroon       Iqbal     15\n..         ...         ...    ...\n345   Isabelle       Roxon      1\n346   Isascugs    Isascugs      1\n347      Isiah      Nesbit      1\n348    Jacinto     Merrett      1\n952  Zithrodog   Zithrodog      1\n\n[953 rows x 3 columns]\n"
        }
      ],
      "execution_count": 23,
      "metadata": {
        "jupyter": {
          "source_hidden": false,
          "outputs_hidden": false
        },
        "nteract": {
          "transient": {
            "deleting": false
          }
        },
        "gather": {
          "logged": 1733286980974
        }
      }
    },
    {
      "cell_type": "code",
      "source": [
        "# Count occurrences of each AgentId\n",
        "agent_id_counts = df['AgentId'].value_counts().reset_index()\n",
        "agent_id_counts.columns = ['AgentId', 'Count']\n",
        "\n",
        "# Display the counts\n",
        "print(\"Counts of each AgentId:\")\n",
        "print(agent_id_counts)"
      ],
      "outputs": [
        {
          "output_type": "stream",
          "name": "stdout",
          "text": "Counts of each AgentId:\n      AgentId  Count\n0       221.0   2354\n1       125.0   2335\n2       400.0   2330\n3       330.0   2198\n4       281.0   2019\n..        ...    ...\n84      275.0      1\n85      367.0      1\n86      354.0      1\n87  1000469.0      1\n88  1000467.0      1\n\n[89 rows x 2 columns]\n"
        }
      ],
      "execution_count": 24,
      "metadata": {
        "jupyter": {
          "source_hidden": false,
          "outputs_hidden": false
        },
        "nteract": {
          "transient": {
            "deleting": false
          }
        },
        "gather": {
          "logged": 1733286981094
        }
      }
    },
    {
      "cell_type": "code",
      "source": [
        "import uuid\n",
        "\n",
        "# Function to generate a consistent placeholder ID based on FirstName, LastName, and PhoneNumber\n",
        "def generate_placeholder(group):\n",
        "    # Use a hash or UUID based on unique group combination\n",
        "    placeholder = str(uuid.uuid4())[:8]  # Generate a short UUID\n",
        "    group['AgentId'] = group['AgentId'].fillna(placeholder)\n",
        "    return group\n",
        "\n",
        "# Group by FirstName, LastName, and PhoneNumber\n",
        "df = df.groupby(['FirstName', 'LastName', 'PhoneNumber']).apply(generate_placeholder)\n",
        "\n",
        "# Display the updated DataFrame\n",
        "print(\"DataFrame with placeholder AgentIds:\")\n",
        "print(df)"
      ],
      "outputs": [
        {
          "output_type": "stream",
          "name": "stdout",
          "text": "DataFrame with placeholder AgentIds:\n       LeadId   AgentId FirstName    LastName               EmailAddress  \\\n0           1  b0b0ede1      Ryan  Abrahamsen      ryan.a@teleofilms.com   \n1           2     106.0    Joseph    Hallahan         jhal.gwu@gmail.com   \n2           3     253.0   Caitlin     Whissel        cewhissel@gmail.com   \n3           4     307.0      Ryan      Brewer       Mrbrewer42@gmail.com   \n4           5     417.0   Presley     Bennett      psbennett92@gmail.com   \n...       ...       ...       ...         ...                        ...   \n46640   49757  e2fa7d12    Suresh  Vadodariya  suresh.dv@dashtechinc.com   \n46641   49758  07abf7a8     Scott           H        shaynes@bookece.com   \n46642   49759  e2fa7d12    Suresh  Vadodariya  suresh.dv@dashtechinc.com   \n46643   49760  07abf7a8     Scott           H        shaynes@bookece.com   \n46644   49761  e2fa7d12    Suresh  Vadodariya  suresh.dv@dashtechinc.com   \n\n        PhoneNumber  CanText  EventDate        EventVenueName      EventCity  \\\n0      804-677-1456     True 2018-06-29                  test       Richmond   \n1      315-657-6942     True 2018-10-14  The Market at Grelen       Somerset   \n2      410-707-0975     True 2018-10-27                   TBD  Davidsonville   \n3      704-241-6229     True 2018-08-18  Old North State Club     New London   \n4      662-902-6385     True 2019-03-16            Sea Island     Sea Island   \n...             ...      ...        ...                   ...            ...   \n46640   19638407536     True 2024-08-06       The Little Nell          Aspen   \n46641    1984889842     True 2024-06-04       The Little Nell          Aspen   \n46642   19638407536    False 2024-08-06       The Little Nell          Aspen   \n46643    1984889842     True 2024-06-04       The Little Nell          Aspen   \n46644   19638407536    False 2024-08-06       The Little Nell          Aspen   \n\n       ...  ReferralContact          ReferralNotes          SubmissionDate  \\\n0      ...  ryan abrahamsen                        2018-06-03 21:00:47.037   \n1      ...  Joseph Hallahan                        2018-06-03 23:30:16.323   \n2      ...  Caitlin Whissel                        2018-06-04 08:54:21.080   \n3      ...      Ryan Brewer                        2018-06-04 10:00:54.437   \n4      ...  Presley Bennett                        2018-06-04 10:20:04.570   \n...    ...              ...                    ...                     ...   \n46640  ...                   Please cheapest price 2024-05-28 09:28:46.543   \n46641  ...                   Please cheapest price 2024-05-28 11:48:13.267   \n46642  ...                   Please cheapest price 2024-05-28 11:48:13.273   \n46643  ...                   Please cheapest price 2024-05-28 13:05:31.550   \n46644  ...                   Please cheapest price 2024-05-28 13:05:31.557   \n\n       IsClosed              ClosedDate  \\\n0          True 2018-06-04 13:22:32.527   \n1          True 2018-06-04 11:20:56.937   \n2          True 2018-06-04 15:13:50.657   \n3          True 2018-06-04 17:53:08.677   \n4          True 2018-06-05 11:32:12.447   \n...         ...                     ...   \n46640     False                     NaT   \n46641     False                     NaT   \n46642     False                     NaT   \n46643     False                     NaT   \n46644     False                     NaT   \n\n                                                 WebData  \\\n0      {\\r\\n  \"first_name\": \"ryan\",\\r\\n  \"last_name\":...   \n1      {\\r\\n  \"first_name\": \"Joseph\",\\r\\n  \"last_name...   \n2      {\\r\\n  \"first_name\": \"Caitlin\",\\r\\n  \"last_nam...   \n3      {\\r\\n  \"first_name\": \"Ryan\",\\r\\n  \"last_name\":...   \n4      {\\r\\n  \"first_name\": \"Presley\",\\r\\n  \"last_nam...   \n...                                                  ...   \n46640                                               None   \n46641                                               None   \n46642                                               None   \n46643                                               None   \n46644                                               None   \n\n                  CreatedDate CreatedById             UpdatedDate UpdatedById  \n0     2018-06-03 21:00:47.037      999999 2018-06-04 13:22:32.527       182.0  \n1     2018-06-03 23:30:16.323      999999 2018-06-04 11:20:56.937       182.0  \n2     2018-06-04 08:54:21.080      999999 2018-06-04 15:13:50.657       253.0  \n3     2018-06-04 10:00:54.437      999999 2018-06-04 17:53:08.677       307.0  \n4     2018-06-04 10:20:04.570      999999 2018-06-05 11:32:12.447       417.0  \n...                       ...         ...                     ...         ...  \n46640 2024-05-28 09:28:46.543           3                     NaT         NaN  \n46641 2024-05-28 11:48:13.267           3                     NaT         NaN  \n46642 2024-05-28 11:48:13.273           3                     NaT         NaN  \n46643 2024-05-28 13:05:31.550           3                     NaT         NaN  \n46644 2024-05-28 13:05:31.557           3                     NaT         NaN  \n\n[46629 rows x 36 columns]\n"
        }
      ],
      "execution_count": 25,
      "metadata": {
        "jupyter": {
          "source_hidden": false,
          "outputs_hidden": false
        },
        "nteract": {
          "transient": {
            "deleting": false
          }
        },
        "gather": {
          "logged": 1733287035002
        }
      }
    },
    {
      "cell_type": "code",
      "source": [
        "# Count occurrences of each AgentId\n",
        "agent_id_counts = df['AgentId'].value_counts()\n",
        "\n",
        "# Filter AgentIds with a count of at least 10\n",
        "valid_agent_ids = agent_id_counts[agent_id_counts >= 10].index\n",
        "\n",
        "# Keep rows where AgentId is in the valid list\n",
        "df = df[df['AgentId'].isin(valid_agent_ids)]\n",
        "\n",
        "# Display the cleaned DataFrame\n",
        "print(\"Cleaned DataFrame:\")\n",
        "print(df)"
      ],
      "outputs": [
        {
          "output_type": "stream",
          "name": "stdout",
          "text": "Cleaned DataFrame:\n       LeadId   AgentId FirstName    LastName                   EmailAddress  \\\n0           1  b0b0ede1      Ryan  Abrahamsen          ryan.a@teleofilms.com   \n1           2     106.0    Joseph    Hallahan             jhal.gwu@gmail.com   \n2           3     253.0   Caitlin     Whissel            cewhissel@gmail.com   \n3           4     307.0      Ryan      Brewer           Mrbrewer42@gmail.com   \n4           5     417.0   Presley     Bennett          psbennett92@gmail.com   \n...       ...       ...       ...         ...                            ...   \n46616   48740       3.0      Test       Teast  darshan.barot@dashtechinc.com   \n46617   48741       3.0    Test C        -Tes      sureshsdashtech@gmail.com   \n46618   48742       3.0      Test        Test                                  \n46619   48743       3.0      Test        Test                                  \n46620   48744       3.0     Tesat        Test                                  \n\n          PhoneNumber  CanText  EventDate        EventVenueName  \\\n0        804-677-1456     True 2018-06-29                  test   \n1        315-657-6942     True 2018-10-14  The Market at Grelen   \n2        410-707-0975     True 2018-10-27                   TBD   \n3        704-241-6229     True 2018-08-18  Old North State Club   \n4        662-902-6385     True 2019-03-16            Sea Island   \n...               ...      ...        ...                   ...   \n46616  (111) 111-1111    False 2023-12-28                 venus   \n46617  (111) 111-1111    False 2023-08-19                 venus   \n46618  (111) 111-1111    False 2024-01-12                   tes   \n46619  (111) 111-1111    False 2024-01-31                  test   \n46620  (111) 111-1111    False 2024-01-31                         \n\n           EventCity  ...  ReferralContact  \\\n0           Richmond  ...  ryan abrahamsen   \n1           Somerset  ...  Joseph Hallahan   \n2      Davidsonville  ...  Caitlin Whissel   \n3         New London  ...      Ryan Brewer   \n4         Sea Island  ...  Presley Bennett   \n...              ...  ...              ...   \n46616        Malvern  ...       test teast   \n46617        Malvern  ...      test c -tes   \n46618        Malvern  ...        test test   \n46619        Malvern  ...        test test   \n46620        Malvern  ...       tesat test   \n\n                                           ReferralNotes  \\\n0                                                          \n1                                                          \n2                                                          \n3                                                          \n4                                                          \n...                                                  ...   \n46616                                   test other notes   \n46617                                                      \n46618                                                      \n46619                                                      \n46620  “Electric” is just one way of describing Ameri...   \n\n               SubmissionDate  IsClosed              ClosedDate  \\\n0     2018-06-03 21:00:47.037      True 2018-06-04 13:22:32.527   \n1     2018-06-03 23:30:16.323      True 2018-06-04 11:20:56.937   \n2     2018-06-04 08:54:21.080      True 2018-06-04 15:13:50.657   \n3     2018-06-04 10:00:54.437      True 2018-06-04 17:53:08.677   \n4     2018-06-04 10:20:04.570      True 2018-06-05 11:32:12.447   \n...                       ...       ...                     ...   \n46616 2024-02-21 18:17:38.623     False                     NaT   \n46617 2024-02-21 18:19:30.887     False                     NaT   \n46618 2024-02-23 13:01:31.040     False                     NaT   \n46619 2024-02-23 13:03:35.087     False                     NaT   \n46620 2024-02-23 18:33:28.960     False                     NaT   \n\n                                                 WebData  \\\n0      {\\r\\n  \"first_name\": \"ryan\",\\r\\n  \"last_name\":...   \n1      {\\r\\n  \"first_name\": \"Joseph\",\\r\\n  \"last_name...   \n2      {\\r\\n  \"first_name\": \"Caitlin\",\\r\\n  \"last_nam...   \n3      {\\r\\n  \"first_name\": \"Ryan\",\\r\\n  \"last_name\":...   \n4      {\\r\\n  \"first_name\": \"Presley\",\\r\\n  \"last_nam...   \n...                                                  ...   \n46616                                                      \n46617                                                      \n46618                                                      \n46619                                                      \n46620                                                      \n\n                  CreatedDate CreatedById             UpdatedDate UpdatedById  \n0     2018-06-03 21:00:47.037      999999 2018-06-04 13:22:32.527       182.0  \n1     2018-06-03 23:30:16.323      999999 2018-06-04 11:20:56.937       182.0  \n2     2018-06-04 08:54:21.080      999999 2018-06-04 15:13:50.657       253.0  \n3     2018-06-04 10:00:54.437      999999 2018-06-04 17:53:08.677       307.0  \n4     2018-06-04 10:20:04.570      999999 2018-06-05 11:32:12.447       417.0  \n...                       ...         ...                     ...         ...  \n46616 2024-02-21 18:17:38.623           3                     NaT         NaN  \n46617 2024-02-21 18:19:30.887           3                     NaT         NaN  \n46618 2024-02-23 13:01:31.040           3                     NaT         NaN  \n46619 2024-02-23 13:03:35.087           3 2024-02-23 13:09:41.867         3.0  \n46620 2024-02-23 18:33:28.960           3 2024-02-23 18:36:00.473         3.0  \n\n[45406 rows x 36 columns]\n"
        }
      ],
      "execution_count": 26,
      "metadata": {
        "jupyter": {
          "source_hidden": false,
          "outputs_hidden": false
        },
        "nteract": {
          "transient": {
            "deleting": false
          }
        },
        "gather": {
          "logged": 1733287035371
        }
      }
    },
    {
      "cell_type": "code",
      "source": [
        "# Count occurrences of each AgentId\n",
        "agent_id_counts = df['AgentId'].value_counts().reset_index()\n",
        "agent_id_counts.columns = ['AgentId', 'Count']\n",
        "\n",
        "# Display the counts\n",
        "print(\"Counts of each AgentId:\")\n",
        "print(agent_id_counts)"
      ],
      "outputs": [
        {
          "output_type": "stream",
          "name": "stdout",
          "text": "Counts of each AgentId:\n     AgentId  Count\n0      221.0   2354\n1      125.0   2335\n2      400.0   2330\n3      330.0   2198\n4      281.0   2019\n..       ...    ...\n77  01ee739a     12\n78  1f327ace     12\n79  86c802fa     12\n80  a89b1eac     11\n81     328.0     11\n\n[82 rows x 2 columns]\n"
        }
      ],
      "execution_count": 27,
      "metadata": {
        "jupyter": {
          "source_hidden": false,
          "outputs_hidden": false
        },
        "nteract": {
          "transient": {
            "deleting": false
          }
        },
        "gather": {
          "logged": 1733287035505
        }
      }
    },
    {
      "cell_type": "code",
      "source": [
        "df['EventDate']"
      ],
      "outputs": [
        {
          "output_type": "execute_result",
          "execution_count": 28,
          "data": {
            "text/plain": "0       2018-06-29\n1       2018-10-14\n2       2018-10-27\n3       2018-08-18\n4       2019-03-16\n           ...    \n46616   2023-12-28\n46617   2023-08-19\n46618   2024-01-12\n46619   2024-01-31\n46620   2024-01-31\nName: EventDate, Length: 45406, dtype: datetime64[ns]"
          },
          "metadata": {}
        }
      ],
      "execution_count": 28,
      "metadata": {
        "jupyter": {
          "source_hidden": false,
          "outputs_hidden": false
        },
        "nteract": {
          "transient": {
            "deleting": false
          }
        },
        "gather": {
          "logged": 1733287035608
        }
      }
    },
    {
      "cell_type": "code",
      "source": [
        "df['EventDate'].fillna(df['ReferralEventDate'], inplace=True)\n",
        "missing_summary = df.isnull().sum()\n",
        "missing_summary"
      ],
      "outputs": [
        {
          "output_type": "execute_result",
          "execution_count": 29,
          "data": {
            "text/plain": "LeadId                     0\nAgentId                    0\nFirstName                  0\nLastName                   0\nEmailAddress               0\nPhoneNumber                0\nCanText                    0\nEventDate                  0\nEventVenueName             0\nEventCity                  0\nEventStateId               0\nEventTypeId                0\nLeadSourceId               0\nArtistId                   0\nArtistName                 0\nParticipant1Name           0\nParticipant2Name           0\nParticipant1TypeId         0\nParticipant2TypeId         0\nEventNotes                 0\nReferralSource             0\nReferralArtistName         0\nReferralAgentName          0\nReferralEventDate          0\nReferralPresenterName      0\nReferralVenueName          0\nReferralContact            0\nReferralNotes              0\nSubmissionDate             0\nIsClosed                   0\nClosedDate               636\nWebData                    0\nCreatedDate                0\nCreatedById                0\nUpdatedDate               21\nUpdatedById               21\ndtype: int64"
          },
          "metadata": {}
        }
      ],
      "execution_count": 29,
      "metadata": {
        "jupyter": {
          "source_hidden": false,
          "outputs_hidden": false
        },
        "nteract": {
          "transient": {
            "deleting": false
          }
        },
        "gather": {
          "logged": 1733287035732
        }
      }
    },
    {
      "cell_type": "code",
      "source": [
        "event_date_counts = df['EventDate'].value_counts()\n",
        "\n",
        "# Display the counts\n",
        "print(\"Value counts for EventDate:\")\n",
        "print(event_date_counts)"
      ],
      "outputs": [
        {
          "output_type": "stream",
          "name": "stdout",
          "text": "Value counts for EventDate:\n                       1051\n2020-10-10 00:00:00     299\n2022-10-22 00:00:00     276\n2022-10-01 00:00:00     271\n2023-05-20 00:00:00     264\n                       ... \n2024-06-05 00:00:00       1\n2020-06-03 00:00:00       1\n1978-10-10 00:00:00       1\n2020-12-27 00:00:00       1\n2018-06-29 00:00:00       1\nName: EventDate, Length: 2113, dtype: int64\n"
        }
      ],
      "execution_count": 30,
      "metadata": {
        "jupyter": {
          "source_hidden": false,
          "outputs_hidden": false
        },
        "nteract": {
          "transient": {
            "deleting": false
          }
        },
        "gather": {
          "logged": 1733287035838
        }
      }
    },
    {
      "cell_type": "code",
      "source": [
        "df.head()"
      ],
      "outputs": [
        {
          "output_type": "execute_result",
          "execution_count": 31,
          "data": {
            "text/plain": "   LeadId   AgentId FirstName    LastName           EmailAddress  \\\n0       1  b0b0ede1      Ryan  Abrahamsen  ryan.a@teleofilms.com   \n1       2     106.0    Joseph    Hallahan     jhal.gwu@gmail.com   \n2       3     253.0   Caitlin     Whissel    cewhissel@gmail.com   \n3       4     307.0      Ryan      Brewer   Mrbrewer42@gmail.com   \n4       5     417.0   Presley     Bennett  psbennett92@gmail.com   \n\n    PhoneNumber  CanText            EventDate        EventVenueName  \\\n0  804-677-1456     True  2018-06-29 00:00:00                  test   \n1  315-657-6942     True  2018-10-14 00:00:00  The Market at Grelen   \n2  410-707-0975     True  2018-10-27 00:00:00                   TBD   \n3  704-241-6229     True  2018-08-18 00:00:00  Old North State Club   \n4  662-902-6385     True  2019-03-16 00:00:00            Sea Island   \n\n       EventCity  ...  ReferralContact  ReferralNotes          SubmissionDate  \\\n0       Richmond  ...  ryan abrahamsen                2018-06-03 21:00:47.037   \n1       Somerset  ...  Joseph Hallahan                2018-06-03 23:30:16.323   \n2  Davidsonville  ...  Caitlin Whissel                2018-06-04 08:54:21.080   \n3     New London  ...      Ryan Brewer                2018-06-04 10:00:54.437   \n4     Sea Island  ...  Presley Bennett                2018-06-04 10:20:04.570   \n\n   IsClosed              ClosedDate  \\\n0      True 2018-06-04 13:22:32.527   \n1      True 2018-06-04 11:20:56.937   \n2      True 2018-06-04 15:13:50.657   \n3      True 2018-06-04 17:53:08.677   \n4      True 2018-06-05 11:32:12.447   \n\n                                             WebData             CreatedDate  \\\n0  {\\r\\n  \"first_name\": \"ryan\",\\r\\n  \"last_name\":... 2018-06-03 21:00:47.037   \n1  {\\r\\n  \"first_name\": \"Joseph\",\\r\\n  \"last_name... 2018-06-03 23:30:16.323   \n2  {\\r\\n  \"first_name\": \"Caitlin\",\\r\\n  \"last_nam... 2018-06-04 08:54:21.080   \n3  {\\r\\n  \"first_name\": \"Ryan\",\\r\\n  \"last_name\":... 2018-06-04 10:00:54.437   \n4  {\\r\\n  \"first_name\": \"Presley\",\\r\\n  \"last_nam... 2018-06-04 10:20:04.570   \n\n  CreatedById             UpdatedDate UpdatedById  \n0      999999 2018-06-04 13:22:32.527       182.0  \n1      999999 2018-06-04 11:20:56.937       182.0  \n2      999999 2018-06-04 15:13:50.657       253.0  \n3      999999 2018-06-04 17:53:08.677       307.0  \n4      999999 2018-06-05 11:32:12.447       417.0  \n\n[5 rows x 36 columns]",
            "text/html": "<div>\n<style scoped>\n    .dataframe tbody tr th:only-of-type {\n        vertical-align: middle;\n    }\n\n    .dataframe tbody tr th {\n        vertical-align: top;\n    }\n\n    .dataframe thead th {\n        text-align: right;\n    }\n</style>\n<table border=\"1\" class=\"dataframe\">\n  <thead>\n    <tr style=\"text-align: right;\">\n      <th></th>\n      <th>LeadId</th>\n      <th>AgentId</th>\n      <th>FirstName</th>\n      <th>LastName</th>\n      <th>EmailAddress</th>\n      <th>PhoneNumber</th>\n      <th>CanText</th>\n      <th>EventDate</th>\n      <th>EventVenueName</th>\n      <th>EventCity</th>\n      <th>...</th>\n      <th>ReferralContact</th>\n      <th>ReferralNotes</th>\n      <th>SubmissionDate</th>\n      <th>IsClosed</th>\n      <th>ClosedDate</th>\n      <th>WebData</th>\n      <th>CreatedDate</th>\n      <th>CreatedById</th>\n      <th>UpdatedDate</th>\n      <th>UpdatedById</th>\n    </tr>\n  </thead>\n  <tbody>\n    <tr>\n      <th>0</th>\n      <td>1</td>\n      <td>b0b0ede1</td>\n      <td>Ryan</td>\n      <td>Abrahamsen</td>\n      <td>ryan.a@teleofilms.com</td>\n      <td>804-677-1456</td>\n      <td>True</td>\n      <td>2018-06-29 00:00:00</td>\n      <td>test</td>\n      <td>Richmond</td>\n      <td>...</td>\n      <td>ryan abrahamsen</td>\n      <td></td>\n      <td>2018-06-03 21:00:47.037</td>\n      <td>True</td>\n      <td>2018-06-04 13:22:32.527</td>\n      <td>{\\r\\n  \"first_name\": \"ryan\",\\r\\n  \"last_name\":...</td>\n      <td>2018-06-03 21:00:47.037</td>\n      <td>999999</td>\n      <td>2018-06-04 13:22:32.527</td>\n      <td>182.0</td>\n    </tr>\n    <tr>\n      <th>1</th>\n      <td>2</td>\n      <td>106.0</td>\n      <td>Joseph</td>\n      <td>Hallahan</td>\n      <td>jhal.gwu@gmail.com</td>\n      <td>315-657-6942</td>\n      <td>True</td>\n      <td>2018-10-14 00:00:00</td>\n      <td>The Market at Grelen</td>\n      <td>Somerset</td>\n      <td>...</td>\n      <td>Joseph Hallahan</td>\n      <td></td>\n      <td>2018-06-03 23:30:16.323</td>\n      <td>True</td>\n      <td>2018-06-04 11:20:56.937</td>\n      <td>{\\r\\n  \"first_name\": \"Joseph\",\\r\\n  \"last_name...</td>\n      <td>2018-06-03 23:30:16.323</td>\n      <td>999999</td>\n      <td>2018-06-04 11:20:56.937</td>\n      <td>182.0</td>\n    </tr>\n    <tr>\n      <th>2</th>\n      <td>3</td>\n      <td>253.0</td>\n      <td>Caitlin</td>\n      <td>Whissel</td>\n      <td>cewhissel@gmail.com</td>\n      <td>410-707-0975</td>\n      <td>True</td>\n      <td>2018-10-27 00:00:00</td>\n      <td>TBD</td>\n      <td>Davidsonville</td>\n      <td>...</td>\n      <td>Caitlin Whissel</td>\n      <td></td>\n      <td>2018-06-04 08:54:21.080</td>\n      <td>True</td>\n      <td>2018-06-04 15:13:50.657</td>\n      <td>{\\r\\n  \"first_name\": \"Caitlin\",\\r\\n  \"last_nam...</td>\n      <td>2018-06-04 08:54:21.080</td>\n      <td>999999</td>\n      <td>2018-06-04 15:13:50.657</td>\n      <td>253.0</td>\n    </tr>\n    <tr>\n      <th>3</th>\n      <td>4</td>\n      <td>307.0</td>\n      <td>Ryan</td>\n      <td>Brewer</td>\n      <td>Mrbrewer42@gmail.com</td>\n      <td>704-241-6229</td>\n      <td>True</td>\n      <td>2018-08-18 00:00:00</td>\n      <td>Old North State Club</td>\n      <td>New London</td>\n      <td>...</td>\n      <td>Ryan Brewer</td>\n      <td></td>\n      <td>2018-06-04 10:00:54.437</td>\n      <td>True</td>\n      <td>2018-06-04 17:53:08.677</td>\n      <td>{\\r\\n  \"first_name\": \"Ryan\",\\r\\n  \"last_name\":...</td>\n      <td>2018-06-04 10:00:54.437</td>\n      <td>999999</td>\n      <td>2018-06-04 17:53:08.677</td>\n      <td>307.0</td>\n    </tr>\n    <tr>\n      <th>4</th>\n      <td>5</td>\n      <td>417.0</td>\n      <td>Presley</td>\n      <td>Bennett</td>\n      <td>psbennett92@gmail.com</td>\n      <td>662-902-6385</td>\n      <td>True</td>\n      <td>2019-03-16 00:00:00</td>\n      <td>Sea Island</td>\n      <td>Sea Island</td>\n      <td>...</td>\n      <td>Presley Bennett</td>\n      <td></td>\n      <td>2018-06-04 10:20:04.570</td>\n      <td>True</td>\n      <td>2018-06-05 11:32:12.447</td>\n      <td>{\\r\\n  \"first_name\": \"Presley\",\\r\\n  \"last_nam...</td>\n      <td>2018-06-04 10:20:04.570</td>\n      <td>999999</td>\n      <td>2018-06-05 11:32:12.447</td>\n      <td>417.0</td>\n    </tr>\n  </tbody>\n</table>\n<p>5 rows × 36 columns</p>\n</div>"
          },
          "metadata": {}
        }
      ],
      "execution_count": 31,
      "metadata": {
        "jupyter": {
          "source_hidden": false,
          "outputs_hidden": false
        },
        "nteract": {
          "transient": {
            "deleting": false
          }
        },
        "gather": {
          "logged": 1733287035947
        }
      }
    },
    {
      "cell_type": "code",
      "source": [
        "query1 = \"SELECT * FROM LuState\"\n",
        "df1 = pd.read_sql(query1, conn)"
      ],
      "outputs": [],
      "execution_count": 32,
      "metadata": {
        "jupyter": {
          "source_hidden": false,
          "outputs_hidden": false
        },
        "nteract": {
          "transient": {
            "deleting": false
          }
        },
        "gather": {
          "logged": 1733287036043
        }
      }
    },
    {
      "cell_type": "code",
      "source": [
        "query2 = \"SELECT * FROM LuEventType\"\n",
        "df2 = pd.read_sql(query2, conn)"
      ],
      "outputs": [],
      "execution_count": 33,
      "metadata": {
        "jupyter": {
          "source_hidden": false,
          "outputs_hidden": false
        },
        "nteract": {
          "transient": {
            "deleting": false
          }
        },
        "gather": {
          "logged": 1733287036136
        }
      }
    },
    {
      "cell_type": "code",
      "source": [
        "df = df.merge(df1[['StateId', 'Name']], left_on='EventStateId', right_on='StateId', how='left')\n",
        "\n",
        "# Rename 'Name' to 'EventState'\n",
        "df.rename(columns={'Name': 'EventState'}, inplace=True)\n"
      ],
      "outputs": [],
      "execution_count": 34,
      "metadata": {
        "jupyter": {
          "source_hidden": false,
          "outputs_hidden": false
        },
        "nteract": {
          "transient": {
            "deleting": false
          }
        },
        "gather": {
          "logged": 1733287036264
        }
      }
    },
    {
      "cell_type": "code",
      "source": [
        "df = df.merge(df2[['EventTypeId', 'Name']], on='EventTypeId', how='left')\n",
        "\n",
        "# Rename 'Name' to 'EventType'\n",
        "df.rename(columns={'Name': 'EventType'}, inplace=True)\n"
      ],
      "outputs": [],
      "execution_count": 35,
      "metadata": {
        "jupyter": {
          "source_hidden": false,
          "outputs_hidden": false
        },
        "nteract": {
          "transient": {
            "deleting": false
          }
        },
        "gather": {
          "logged": 1733287036370
        }
      }
    },
    {
      "cell_type": "code",
      "source": [
        "df.head()"
      ],
      "outputs": [
        {
          "output_type": "execute_result",
          "execution_count": 36,
          "data": {
            "text/plain": "   LeadId   AgentId FirstName    LastName           EmailAddress  \\\n0       1  b0b0ede1      Ryan  Abrahamsen  ryan.a@teleofilms.com   \n1       2     106.0    Joseph    Hallahan     jhal.gwu@gmail.com   \n2       3     253.0   Caitlin     Whissel    cewhissel@gmail.com   \n3       4     307.0      Ryan      Brewer   Mrbrewer42@gmail.com   \n4       5     417.0   Presley     Bennett  psbennett92@gmail.com   \n\n    PhoneNumber  CanText            EventDate        EventVenueName  \\\n0  804-677-1456     True  2018-06-29 00:00:00                  test   \n1  315-657-6942     True  2018-10-14 00:00:00  The Market at Grelen   \n2  410-707-0975     True  2018-10-27 00:00:00                   TBD   \n3  704-241-6229     True  2018-08-18 00:00:00  Old North State Club   \n4  662-902-6385     True  2019-03-16 00:00:00            Sea Island   \n\n       EventCity  ...  IsClosed              ClosedDate  \\\n0       Richmond  ...      True 2018-06-04 13:22:32.527   \n1       Somerset  ...      True 2018-06-04 11:20:56.937   \n2  Davidsonville  ...      True 2018-06-04 15:13:50.657   \n3     New London  ...      True 2018-06-04 17:53:08.677   \n4     Sea Island  ...      True 2018-06-05 11:32:12.447   \n\n                                             WebData             CreatedDate  \\\n0  {\\r\\n  \"first_name\": \"ryan\",\\r\\n  \"last_name\":... 2018-06-03 21:00:47.037   \n1  {\\r\\n  \"first_name\": \"Joseph\",\\r\\n  \"last_name... 2018-06-03 23:30:16.323   \n2  {\\r\\n  \"first_name\": \"Caitlin\",\\r\\n  \"last_nam... 2018-06-04 08:54:21.080   \n3  {\\r\\n  \"first_name\": \"Ryan\",\\r\\n  \"last_name\":... 2018-06-04 10:00:54.437   \n4  {\\r\\n  \"first_name\": \"Presley\",\\r\\n  \"last_nam... 2018-06-04 10:20:04.570   \n\n  CreatedById             UpdatedDate UpdatedById StateId      EventState  \\\n0      999999 2018-06-04 13:22:32.527       182.0      46        VIRGINIA   \n1      999999 2018-06-04 11:20:56.937       182.0      46        VIRGINIA   \n2      999999 2018-06-04 15:13:50.657       253.0      21        MARYLAND   \n3      999999 2018-06-04 17:53:08.677       307.0      28  NORTH CAROLINA   \n4      999999 2018-06-05 11:32:12.447       417.0      11         GEORGIA   \n\n    EventType  \n0  Unassigned  \n1     Wedding  \n2     Wedding  \n3     Wedding  \n4     Wedding  \n\n[5 rows x 39 columns]",
            "text/html": "<div>\n<style scoped>\n    .dataframe tbody tr th:only-of-type {\n        vertical-align: middle;\n    }\n\n    .dataframe tbody tr th {\n        vertical-align: top;\n    }\n\n    .dataframe thead th {\n        text-align: right;\n    }\n</style>\n<table border=\"1\" class=\"dataframe\">\n  <thead>\n    <tr style=\"text-align: right;\">\n      <th></th>\n      <th>LeadId</th>\n      <th>AgentId</th>\n      <th>FirstName</th>\n      <th>LastName</th>\n      <th>EmailAddress</th>\n      <th>PhoneNumber</th>\n      <th>CanText</th>\n      <th>EventDate</th>\n      <th>EventVenueName</th>\n      <th>EventCity</th>\n      <th>...</th>\n      <th>IsClosed</th>\n      <th>ClosedDate</th>\n      <th>WebData</th>\n      <th>CreatedDate</th>\n      <th>CreatedById</th>\n      <th>UpdatedDate</th>\n      <th>UpdatedById</th>\n      <th>StateId</th>\n      <th>EventState</th>\n      <th>EventType</th>\n    </tr>\n  </thead>\n  <tbody>\n    <tr>\n      <th>0</th>\n      <td>1</td>\n      <td>b0b0ede1</td>\n      <td>Ryan</td>\n      <td>Abrahamsen</td>\n      <td>ryan.a@teleofilms.com</td>\n      <td>804-677-1456</td>\n      <td>True</td>\n      <td>2018-06-29 00:00:00</td>\n      <td>test</td>\n      <td>Richmond</td>\n      <td>...</td>\n      <td>True</td>\n      <td>2018-06-04 13:22:32.527</td>\n      <td>{\\r\\n  \"first_name\": \"ryan\",\\r\\n  \"last_name\":...</td>\n      <td>2018-06-03 21:00:47.037</td>\n      <td>999999</td>\n      <td>2018-06-04 13:22:32.527</td>\n      <td>182.0</td>\n      <td>46</td>\n      <td>VIRGINIA</td>\n      <td>Unassigned</td>\n    </tr>\n    <tr>\n      <th>1</th>\n      <td>2</td>\n      <td>106.0</td>\n      <td>Joseph</td>\n      <td>Hallahan</td>\n      <td>jhal.gwu@gmail.com</td>\n      <td>315-657-6942</td>\n      <td>True</td>\n      <td>2018-10-14 00:00:00</td>\n      <td>The Market at Grelen</td>\n      <td>Somerset</td>\n      <td>...</td>\n      <td>True</td>\n      <td>2018-06-04 11:20:56.937</td>\n      <td>{\\r\\n  \"first_name\": \"Joseph\",\\r\\n  \"last_name...</td>\n      <td>2018-06-03 23:30:16.323</td>\n      <td>999999</td>\n      <td>2018-06-04 11:20:56.937</td>\n      <td>182.0</td>\n      <td>46</td>\n      <td>VIRGINIA</td>\n      <td>Wedding</td>\n    </tr>\n    <tr>\n      <th>2</th>\n      <td>3</td>\n      <td>253.0</td>\n      <td>Caitlin</td>\n      <td>Whissel</td>\n      <td>cewhissel@gmail.com</td>\n      <td>410-707-0975</td>\n      <td>True</td>\n      <td>2018-10-27 00:00:00</td>\n      <td>TBD</td>\n      <td>Davidsonville</td>\n      <td>...</td>\n      <td>True</td>\n      <td>2018-06-04 15:13:50.657</td>\n      <td>{\\r\\n  \"first_name\": \"Caitlin\",\\r\\n  \"last_nam...</td>\n      <td>2018-06-04 08:54:21.080</td>\n      <td>999999</td>\n      <td>2018-06-04 15:13:50.657</td>\n      <td>253.0</td>\n      <td>21</td>\n      <td>MARYLAND</td>\n      <td>Wedding</td>\n    </tr>\n    <tr>\n      <th>3</th>\n      <td>4</td>\n      <td>307.0</td>\n      <td>Ryan</td>\n      <td>Brewer</td>\n      <td>Mrbrewer42@gmail.com</td>\n      <td>704-241-6229</td>\n      <td>True</td>\n      <td>2018-08-18 00:00:00</td>\n      <td>Old North State Club</td>\n      <td>New London</td>\n      <td>...</td>\n      <td>True</td>\n      <td>2018-06-04 17:53:08.677</td>\n      <td>{\\r\\n  \"first_name\": \"Ryan\",\\r\\n  \"last_name\":...</td>\n      <td>2018-06-04 10:00:54.437</td>\n      <td>999999</td>\n      <td>2018-06-04 17:53:08.677</td>\n      <td>307.0</td>\n      <td>28</td>\n      <td>NORTH CAROLINA</td>\n      <td>Wedding</td>\n    </tr>\n    <tr>\n      <th>4</th>\n      <td>5</td>\n      <td>417.0</td>\n      <td>Presley</td>\n      <td>Bennett</td>\n      <td>psbennett92@gmail.com</td>\n      <td>662-902-6385</td>\n      <td>True</td>\n      <td>2019-03-16 00:00:00</td>\n      <td>Sea Island</td>\n      <td>Sea Island</td>\n      <td>...</td>\n      <td>True</td>\n      <td>2018-06-05 11:32:12.447</td>\n      <td>{\\r\\n  \"first_name\": \"Presley\",\\r\\n  \"last_nam...</td>\n      <td>2018-06-04 10:20:04.570</td>\n      <td>999999</td>\n      <td>2018-06-05 11:32:12.447</td>\n      <td>417.0</td>\n      <td>11</td>\n      <td>GEORGIA</td>\n      <td>Wedding</td>\n    </tr>\n  </tbody>\n</table>\n<p>5 rows × 39 columns</p>\n</div>"
          },
          "metadata": {}
        }
      ],
      "execution_count": 36,
      "metadata": {
        "jupyter": {
          "source_hidden": false,
          "outputs_hidden": false
        },
        "nteract": {
          "transient": {
            "deleting": false
          }
        },
        "gather": {
          "logged": 1733287036477
        }
      }
    },
    {
      "cell_type": "code",
      "source": [
        "duplicates = df[df.duplicated(subset='LeadId', keep=False)]\n",
        "\n",
        "# Display duplicates if any\n",
        "print(f\"Number of duplicate LeadIds: {duplicates.shape[0]}\")"
      ],
      "outputs": [
        {
          "output_type": "stream",
          "name": "stdout",
          "text": "Number of duplicate LeadIds: 0\n"
        }
      ],
      "execution_count": 37,
      "metadata": {
        "jupyter": {
          "source_hidden": false,
          "outputs_hidden": false
        },
        "nteract": {
          "transient": {
            "deleting": false
          }
        },
        "gather": {
          "logged": 1733287036595
        }
      }
    },
    {
      "cell_type": "code",
      "source": [
        "# Check for missing values in critical columns\n",
        "critical_columns = ['EmailAddress', 'PhoneNumber', 'FirstName', 'LastName']\n",
        "missing_critical = df[critical_columns].isnull().sum()\n",
        "print(missing_critical)"
      ],
      "outputs": [
        {
          "output_type": "stream",
          "name": "stdout",
          "text": "EmailAddress    0\nPhoneNumber     0\nFirstName       0\nLastName        0\ndtype: int64\n"
        }
      ],
      "execution_count": 38,
      "metadata": {
        "jupyter": {
          "source_hidden": false,
          "outputs_hidden": false
        },
        "nteract": {
          "transient": {
            "deleting": false
          }
        },
        "gather": {
          "logged": 1733287036681
        }
      }
    },
    {
      "cell_type": "code",
      "source": [
        "from sklearn.preprocessing import LabelEncoder\n",
        "\n",
        "# Label Encoding for binary categorical variables\n",
        "le = LabelEncoder()\n",
        "df['CanTextEncoded'] = le.fit_transform(df['CanText'])\n",
        "\n",
        "# One-Hot Encoding for nominal variables\n",
        "df = pd.get_dummies(df, columns=['EventType', 'ReferralSource'], drop_first=True)\n"
      ],
      "outputs": [],
      "execution_count": 39,
      "metadata": {
        "jupyter": {
          "source_hidden": false,
          "outputs_hidden": false
        },
        "nteract": {
          "transient": {
            "deleting": false
          }
        },
        "gather": {
          "logged": 1733287037291
        }
      }
    },
    {
      "cell_type": "code",
      "source": [
        "# Placeholder for CLV calculation\n",
        "df['CLV'] = df['IsClosed'].astype(int)  # Simple proxy: Closed leads as higher value\n"
      ],
      "outputs": [],
      "execution_count": 40,
      "metadata": {
        "jupyter": {
          "source_hidden": false,
          "outputs_hidden": false
        },
        "nteract": {
          "transient": {
            "deleting": false
          }
        },
        "gather": {
          "logged": 1733287037397
        }
      }
    },
    {
      "cell_type": "code",
      "source": [
        "# Count the number of leads per client\n",
        "activity_levels = df.groupby('EmailAddress').size().reset_index(name='ActivityLevel')\n",
        "\n",
        "# Merge back to the main DataFrame\n",
        "df = df.merge(activity_levels, on='EmailAddress', how='left')\n",
        "df"
      ],
      "outputs": [
        {
          "output_type": "execute_result",
          "execution_count": 41,
          "data": {
            "text/plain": "       LeadId   AgentId FirstName    LastName                   EmailAddress  \\\n0           1  b0b0ede1      Ryan  Abrahamsen          ryan.a@teleofilms.com   \n1           2     106.0    Joseph    Hallahan             jhal.gwu@gmail.com   \n2           3     253.0   Caitlin     Whissel            cewhissel@gmail.com   \n3           4     307.0      Ryan      Brewer           Mrbrewer42@gmail.com   \n4           5     417.0   Presley     Bennett          psbennett92@gmail.com   \n...       ...       ...       ...         ...                            ...   \n45401   48740       3.0      Test       Teast  darshan.barot@dashtechinc.com   \n45402   48741       3.0    Test C        -Tes      sureshsdashtech@gmail.com   \n45403   48742       3.0      Test        Test                                  \n45404   48743       3.0      Test        Test                                  \n45405   48744       3.0     Tesat        Test                                  \n\n          PhoneNumber  CanText            EventDate        EventVenueName  \\\n0        804-677-1456     True  2018-06-29 00:00:00                  test   \n1        315-657-6942     True  2018-10-14 00:00:00  The Market at Grelen   \n2        410-707-0975     True  2018-10-27 00:00:00                   TBD   \n3        704-241-6229     True  2018-08-18 00:00:00  Old North State Club   \n4        662-902-6385     True  2019-03-16 00:00:00            Sea Island   \n...               ...      ...                  ...                   ...   \n45401  (111) 111-1111    False  2023-12-28 00:00:00                 venus   \n45402  (111) 111-1111    False  2023-08-19 00:00:00                 venus   \n45403  (111) 111-1111    False  2024-01-12 00:00:00                   tes   \n45404  (111) 111-1111    False  2024-01-31 00:00:00                  test   \n45405  (111) 111-1111    False  2024-01-31 00:00:00                         \n\n           EventCity  ...  \\\n0           Richmond  ...   \n1           Somerset  ...   \n2      Davidsonville  ...   \n3         New London  ...   \n4         Sea Island  ...   \n...              ...  ...   \n45401        Malvern  ...   \n45402        Malvern  ...   \n45403        Malvern  ...   \n45404        Malvern  ...   \n45405        Malvern  ...   \n\n       ReferralSource_worked with you before about other inquiries.  \\\n0                                                      0              \n1                                                      0              \n2                                                      0              \n3                                                      0              \n4                                                      0              \n...                                                  ...              \n45401                                                  0              \n45402                                                  0              \n45403                                                  0              \n45404                                                  0              \n45405                                                  0              \n\n       ReferralSource_would like more info about Fifth Devine pricing  \\\n0                                                      0                \n1                                                      0                \n2                                                      0                \n3                                                      0                \n4                                                      0                \n...                                                  ...                \n45401                                                  0                \n45402                                                  0                \n45403                                                  0                \n45404                                                  0                \n45405                                                  0                \n\n       ReferralSource_www.bandstexas.com  \\\n0                                      0   \n1                                      0   \n2                                      0   \n3                                      0   \n4                                      0   \n...                                  ...   \n45401                                  0   \n45402                                  0   \n45403                                  0   \n45404                                  0   \n45405                                  0   \n\n       ReferralSource_www.southernbrideandgroom.com  \\\n0                                                 0   \n1                                                 0   \n2                                                 0   \n3                                                 0   \n4                                                 0   \n...                                             ...   \n45401                                             0   \n45402                                             0   \n45403                                             0   \n45404                                             0   \n45405                                             0   \n\n      ReferralSource_www.thebreakfastclub.com ReferralSource_www.yelp.com  \\\n0                                           0                           0   \n1                                           0                           0   \n2                                           0                           0   \n3                                           0                           0   \n4                                           0                           0   \n...                                       ...                         ...   \n45401                                       0                           0   \n45402                                       0                           0   \n45403                                       0                           0   \n45404                                       0                           0   \n45405                                       0                           0   \n\n      ReferralSource_you were on the approved vendor list at Ponte Vedra Inn and club  \\\n0                                                      0                                \n1                                                      0                                \n2                                                      0                                \n3                                                      0                                \n4                                                      0                                \n...                                                  ...                                \n45401                                                  0                                \n45402                                                  0                                \n45403                                                  0                                \n45404                                                  0                                \n45405                                                  0                                \n\n      ReferralSource_youtube CLV ActivityLevel  \n0                          0   1            95  \n1                          0   1             1  \n2                          0   1             1  \n3                          0   1             1  \n4                          0   1             2  \n...                      ...  ..           ...  \n45401                      0   0             2  \n45402                      0   0             4  \n45403                      0   0           626  \n45404                      0   0           626  \n45405                      0   0           626  \n\n[45406 rows x 3714 columns]",
            "text/html": "<div>\n<style scoped>\n    .dataframe tbody tr th:only-of-type {\n        vertical-align: middle;\n    }\n\n    .dataframe tbody tr th {\n        vertical-align: top;\n    }\n\n    .dataframe thead th {\n        text-align: right;\n    }\n</style>\n<table border=\"1\" class=\"dataframe\">\n  <thead>\n    <tr style=\"text-align: right;\">\n      <th></th>\n      <th>LeadId</th>\n      <th>AgentId</th>\n      <th>FirstName</th>\n      <th>LastName</th>\n      <th>EmailAddress</th>\n      <th>PhoneNumber</th>\n      <th>CanText</th>\n      <th>EventDate</th>\n      <th>EventVenueName</th>\n      <th>EventCity</th>\n      <th>...</th>\n      <th>ReferralSource_worked with you before about other inquiries.</th>\n      <th>ReferralSource_would like more info about Fifth Devine pricing</th>\n      <th>ReferralSource_www.bandstexas.com</th>\n      <th>ReferralSource_www.southernbrideandgroom.com</th>\n      <th>ReferralSource_www.thebreakfastclub.com</th>\n      <th>ReferralSource_www.yelp.com</th>\n      <th>ReferralSource_you were on the approved vendor list at Ponte Vedra Inn and club</th>\n      <th>ReferralSource_youtube</th>\n      <th>CLV</th>\n      <th>ActivityLevel</th>\n    </tr>\n  </thead>\n  <tbody>\n    <tr>\n      <th>0</th>\n      <td>1</td>\n      <td>b0b0ede1</td>\n      <td>Ryan</td>\n      <td>Abrahamsen</td>\n      <td>ryan.a@teleofilms.com</td>\n      <td>804-677-1456</td>\n      <td>True</td>\n      <td>2018-06-29 00:00:00</td>\n      <td>test</td>\n      <td>Richmond</td>\n      <td>...</td>\n      <td>0</td>\n      <td>0</td>\n      <td>0</td>\n      <td>0</td>\n      <td>0</td>\n      <td>0</td>\n      <td>0</td>\n      <td>0</td>\n      <td>1</td>\n      <td>95</td>\n    </tr>\n    <tr>\n      <th>1</th>\n      <td>2</td>\n      <td>106.0</td>\n      <td>Joseph</td>\n      <td>Hallahan</td>\n      <td>jhal.gwu@gmail.com</td>\n      <td>315-657-6942</td>\n      <td>True</td>\n      <td>2018-10-14 00:00:00</td>\n      <td>The Market at Grelen</td>\n      <td>Somerset</td>\n      <td>...</td>\n      <td>0</td>\n      <td>0</td>\n      <td>0</td>\n      <td>0</td>\n      <td>0</td>\n      <td>0</td>\n      <td>0</td>\n      <td>0</td>\n      <td>1</td>\n      <td>1</td>\n    </tr>\n    <tr>\n      <th>2</th>\n      <td>3</td>\n      <td>253.0</td>\n      <td>Caitlin</td>\n      <td>Whissel</td>\n      <td>cewhissel@gmail.com</td>\n      <td>410-707-0975</td>\n      <td>True</td>\n      <td>2018-10-27 00:00:00</td>\n      <td>TBD</td>\n      <td>Davidsonville</td>\n      <td>...</td>\n      <td>0</td>\n      <td>0</td>\n      <td>0</td>\n      <td>0</td>\n      <td>0</td>\n      <td>0</td>\n      <td>0</td>\n      <td>0</td>\n      <td>1</td>\n      <td>1</td>\n    </tr>\n    <tr>\n      <th>3</th>\n      <td>4</td>\n      <td>307.0</td>\n      <td>Ryan</td>\n      <td>Brewer</td>\n      <td>Mrbrewer42@gmail.com</td>\n      <td>704-241-6229</td>\n      <td>True</td>\n      <td>2018-08-18 00:00:00</td>\n      <td>Old North State Club</td>\n      <td>New London</td>\n      <td>...</td>\n      <td>0</td>\n      <td>0</td>\n      <td>0</td>\n      <td>0</td>\n      <td>0</td>\n      <td>0</td>\n      <td>0</td>\n      <td>0</td>\n      <td>1</td>\n      <td>1</td>\n    </tr>\n    <tr>\n      <th>4</th>\n      <td>5</td>\n      <td>417.0</td>\n      <td>Presley</td>\n      <td>Bennett</td>\n      <td>psbennett92@gmail.com</td>\n      <td>662-902-6385</td>\n      <td>True</td>\n      <td>2019-03-16 00:00:00</td>\n      <td>Sea Island</td>\n      <td>Sea Island</td>\n      <td>...</td>\n      <td>0</td>\n      <td>0</td>\n      <td>0</td>\n      <td>0</td>\n      <td>0</td>\n      <td>0</td>\n      <td>0</td>\n      <td>0</td>\n      <td>1</td>\n      <td>2</td>\n    </tr>\n    <tr>\n      <th>...</th>\n      <td>...</td>\n      <td>...</td>\n      <td>...</td>\n      <td>...</td>\n      <td>...</td>\n      <td>...</td>\n      <td>...</td>\n      <td>...</td>\n      <td>...</td>\n      <td>...</td>\n      <td>...</td>\n      <td>...</td>\n      <td>...</td>\n      <td>...</td>\n      <td>...</td>\n      <td>...</td>\n      <td>...</td>\n      <td>...</td>\n      <td>...</td>\n      <td>...</td>\n      <td>...</td>\n    </tr>\n    <tr>\n      <th>45401</th>\n      <td>48740</td>\n      <td>3.0</td>\n      <td>Test</td>\n      <td>Teast</td>\n      <td>darshan.barot@dashtechinc.com</td>\n      <td>(111) 111-1111</td>\n      <td>False</td>\n      <td>2023-12-28 00:00:00</td>\n      <td>venus</td>\n      <td>Malvern</td>\n      <td>...</td>\n      <td>0</td>\n      <td>0</td>\n      <td>0</td>\n      <td>0</td>\n      <td>0</td>\n      <td>0</td>\n      <td>0</td>\n      <td>0</td>\n      <td>0</td>\n      <td>2</td>\n    </tr>\n    <tr>\n      <th>45402</th>\n      <td>48741</td>\n      <td>3.0</td>\n      <td>Test C</td>\n      <td>-Tes</td>\n      <td>sureshsdashtech@gmail.com</td>\n      <td>(111) 111-1111</td>\n      <td>False</td>\n      <td>2023-08-19 00:00:00</td>\n      <td>venus</td>\n      <td>Malvern</td>\n      <td>...</td>\n      <td>0</td>\n      <td>0</td>\n      <td>0</td>\n      <td>0</td>\n      <td>0</td>\n      <td>0</td>\n      <td>0</td>\n      <td>0</td>\n      <td>0</td>\n      <td>4</td>\n    </tr>\n    <tr>\n      <th>45403</th>\n      <td>48742</td>\n      <td>3.0</td>\n      <td>Test</td>\n      <td>Test</td>\n      <td></td>\n      <td>(111) 111-1111</td>\n      <td>False</td>\n      <td>2024-01-12 00:00:00</td>\n      <td>tes</td>\n      <td>Malvern</td>\n      <td>...</td>\n      <td>0</td>\n      <td>0</td>\n      <td>0</td>\n      <td>0</td>\n      <td>0</td>\n      <td>0</td>\n      <td>0</td>\n      <td>0</td>\n      <td>0</td>\n      <td>626</td>\n    </tr>\n    <tr>\n      <th>45404</th>\n      <td>48743</td>\n      <td>3.0</td>\n      <td>Test</td>\n      <td>Test</td>\n      <td></td>\n      <td>(111) 111-1111</td>\n      <td>False</td>\n      <td>2024-01-31 00:00:00</td>\n      <td>test</td>\n      <td>Malvern</td>\n      <td>...</td>\n      <td>0</td>\n      <td>0</td>\n      <td>0</td>\n      <td>0</td>\n      <td>0</td>\n      <td>0</td>\n      <td>0</td>\n      <td>0</td>\n      <td>0</td>\n      <td>626</td>\n    </tr>\n    <tr>\n      <th>45405</th>\n      <td>48744</td>\n      <td>3.0</td>\n      <td>Tesat</td>\n      <td>Test</td>\n      <td></td>\n      <td>(111) 111-1111</td>\n      <td>False</td>\n      <td>2024-01-31 00:00:00</td>\n      <td></td>\n      <td>Malvern</td>\n      <td>...</td>\n      <td>0</td>\n      <td>0</td>\n      <td>0</td>\n      <td>0</td>\n      <td>0</td>\n      <td>0</td>\n      <td>0</td>\n      <td>0</td>\n      <td>0</td>\n      <td>626</td>\n    </tr>\n  </tbody>\n</table>\n<p>45406 rows × 3714 columns</p>\n</div>"
          },
          "metadata": {}
        }
      ],
      "execution_count": 41,
      "metadata": {
        "jupyter": {
          "source_hidden": false,
          "outputs_hidden": false
        },
        "nteract": {
          "transient": {
            "deleting": false
          }
        },
        "gather": {
          "logged": 1733287038466
        }
      }
    },
    {
      "cell_type": "code",
      "source": [
        "# Assuming 'LeadId' represents unique event participation\n",
        "participation_rates = df.groupby('EmailAddress')['LeadId'].nunique().reset_index(name='ParticipationRate')\n",
        "\n",
        "# Merge back to the main DataFrame\n",
        "df = df.merge(participation_rates, on='EmailAddress', how='left')\n"
      ],
      "outputs": [],
      "execution_count": 42,
      "metadata": {
        "jupyter": {
          "source_hidden": false,
          "outputs_hidden": false
        },
        "nteract": {
          "transient": {
            "deleting": false
          }
        },
        "gather": {
          "logged": 1733287039538
        }
      }
    },
    {
      "cell_type": "code",
      "source": [
        "# Convert 'EventDate' and 'ClosedDate' to datetime, coercing errors to NaT\n",
        "df['EventDate'] = pd.to_datetime(df['EventDate'], errors='coerce')\n",
        "df['ClosedDate'] = pd.to_datetime(df['ClosedDate'], errors='coerce')"
      ],
      "outputs": [],
      "execution_count": 45,
      "metadata": {
        "jupyter": {
          "source_hidden": false,
          "outputs_hidden": false
        },
        "nteract": {
          "transient": {
            "deleting": false
          }
        },
        "gather": {
          "logged": 1733287087308
        }
      }
    },
    {
      "cell_type": "code",
      "source": [
        "# Convert 'EventDate' and 'ClosedDate' to datetime if not already\n",
        "df['EventDate'] = pd.to_datetime(df['EventDate'])\n",
        "df['ClosedDate'] = pd.to_datetime(df['ClosedDate'])\n",
        "\n",
        "# Lead age in days\n",
        "df['LeadAgeDays'] = (df['ClosedDate'] - df['SubmissionDate']).dt.days\n",
        "\n",
        "# Time until event from submission\n",
        "df['TimeToEventDays'] = (df['EventDate'] - df['SubmissionDate']).dt.days\n"
      ],
      "outputs": [],
      "execution_count": 46,
      "metadata": {
        "jupyter": {
          "source_hidden": false,
          "outputs_hidden": false
        },
        "nteract": {
          "transient": {
            "deleting": false
          }
        },
        "gather": {
          "logged": 1733287088360
        }
      }
    },
    {
      "cell_type": "code",
      "source": [
        "# Top Event Cities\n",
        "top_cities = df['EventCity'].value_counts().head(10)\n",
        "print(top_cities)\n",
        "\n",
        "# Plotting\n",
        "import matplotlib.pyplot as plt\n",
        "import seaborn as sns\n",
        "\n",
        "sns.barplot(x=top_cities.index, y=top_cities.values)\n",
        "plt.xticks(rotation=45)\n",
        "plt.title('Top 10 Event Cities')\n",
        "plt.xlabel('City')\n",
        "plt.ylabel('Number of Events')\n",
        "plt.show()\n"
      ],
      "outputs": [
        {
          "output_type": "stream",
          "name": "stdout",
          "text": "                1590\nCharlotte       1491\nCharleston      1419\nAtlanta         1341\nRaleigh         1086\nRichmond        1007\nPhiladelphia     969\nAsheville        768\nGreenville       693\nWashington       561\nName: EventCity, dtype: int64\n"
        },
        {
          "output_type": "display_data",
          "data": {
            "text/plain": "<Figure size 640x480 with 1 Axes>",
            "image/png": "[encoded data removed]"
          },
          "metadata": {}
        }
      ],
      "execution_count": 47,
      "metadata": {
        "jupyter": {
          "source_hidden": false,
          "outputs_hidden": false
        },
        "nteract": {
          "transient": {
            "deleting": false
          }
        },
        "gather": {
          "logged": 1733287091507
        }
      }
    },
    {
      "cell_type": "code",
      "source": [
        "# Events by month\n",
        "df['EventMonth'] = df['EventDate'].dt.to_period('M')\n",
        "monthly_events = df['EventMonth'].value_counts().sort_index()\n",
        "\n",
        "# Converting EventMonth to datetime for proper plotting\n",
        "monthly_events.index = monthly_events.index.to_timestamp()\n",
        "\n",
        "# Plotting\n",
        "plt.figure(figsize=(12, 6))\n",
        "monthly_events.plot(kind='line')\n",
        "plt.title('Events Over Time')\n",
        "plt.xlabel('Month')\n",
        "plt.ylabel('Number of Events')\n",
        "plt.xlim(pd.Timestamp('2017-01-01'), pd.Timestamp('2026-01-01'))  # Set x-axis limits\n",
        "plt.show()"
      ],
      "outputs": [
        {
          "output_type": "display_data",
          "data": {
            "text/plain": "<Figure size 1200x600 with 1 Axes>",
            "image/png": "[encoded data removed]"
          },
          "metadata": {}
        }
      ],
      "execution_count": 52,
      "metadata": {
        "jupyter": {
          "source_hidden": false,
          "outputs_hidden": false
        },
        "nteract": {
          "transient": {
            "deleting": false
          }
        },
        "gather": {
          "logged": 1733287168420
        }
      }
    },
    {
      "cell_type": "code",
      "source": [
        "# Overall conversion rate\n",
        "overall_conversion_rate = df['IsClosed'].mean()\n",
        "print(f\"Overall Conversion Rate: {overall_conversion_rate:.2%}\")\n",
        "\n",
        "# Conversion rate by 'LeadSourceId'\n",
        "conversion_by_source = df.groupby('LeadSourceId')['IsClosed'].mean().sort_values(ascending=False)\n",
        "print(conversion_by_source)\n",
        "\n",
        "# Plotting\n",
        "conversion_by_source.plot(kind='bar', figsize=(12, 6))\n",
        "plt.title('Conversion Rate by Lead Source')\n",
        "plt.xlabel('Lead Source ID')\n",
        "plt.ylabel('Conversion Rate')\n",
        "plt.show()"
      ],
      "outputs": [
        {
          "output_type": "stream",
          "name": "stdout",
          "text": "Overall Conversion Rate: 98.88%\nLeadSourceId\n2    0.992659\n4    0.989715\n5    0.984199\n6    0.979592\n1    0.920000\n3    0.444444\n7    0.000000\nName: IsClosed, dtype: float64\n"
        },
        {
          "output_type": "display_data",
          "data": {
            "text/plain": "<Figure size 1200x600 with 1 Axes>",
            "image/png": "[encoded data removed]"
          },
          "metadata": {}
        }
      ],
      "execution_count": 53,
      "metadata": {
        "jupyter": {
          "source_hidden": false,
          "outputs_hidden": false
        },
        "nteract": {
          "transient": {
            "deleting": false
          }
        },
        "gather": {
          "logged": 1733287175380
        }
      }
    },
    {
      "cell_type": "code",
      "source": [
        "import numpy as np \n",
        "# Select numerical columns for correlation analysis\n",
        "numerical_columns = df.select_dtypes(include=['int64', 'float64', 'bool', 'datetime64[ns]']).columns.tolist()\n",
        "\n",
        "# Optional: Exclude identifier columns that don't provide meaningful correlation\n",
        "identifier_columns = ['LeadId', 'CreatedById', 'UpdatedById']\n",
        "numerical_columns = [col for col in numerical_columns if col not in identifier_columns]\n",
        "\n",
        "# Convert boolean columns to integers\n",
        "bool_columns = df[numerical_columns].select_dtypes(include=['bool']).columns.tolist()\n",
        "df[bool_columns] = df[bool_columns].astype(int)\n",
        "\n",
        "# Convert datetime columns to numerical representations (e.g., timestamp)\n",
        "datetime_columns = df[numerical_columns].select_dtypes(include=['datetime64[ns]']).columns.tolist()\n",
        "for col in datetime_columns:\n",
        "    df[col + '_Timestamp'] = df[col].apply(lambda x: x.timestamp() if pd.notnull(x) else np.nan)\n",
        "    numerical_columns.append(col + '_Timestamp')\n",
        "    numerical_columns.remove(col)\n",
        "\n",
        "# Update numerical columns list after transformations\n",
        "numerical_columns = [col for col in numerical_columns if col not in datetime_columns]\n",
        "\n",
        "# Compute the correlation matrix\n",
        "corr_matrix = df[numerical_columns].corr()\n",
        "\n",
        "# Display the correlation matrix\n",
        "print(\"Correlation Matrix:\")\n",
        "print(corr_matrix)\n"
      ],
      "outputs": [
        {
          "output_type": "stream",
          "name": "stdout",
          "text": "Correlation Matrix:\n                           CanText  EventStateId  EventTypeId  LeadSourceId  \\\nCanText                   1.000000     -0.063762    -0.124757     -0.155245   \nEventStateId             -0.063762      1.000000    -0.005835     -0.090667   \nEventTypeId              -0.124757     -0.005835     1.000000     -0.066526   \nLeadSourceId             -0.155245     -0.090667    -0.066526      1.000000   \nArtistId                  0.236853     -0.042441    -0.040888     -0.062414   \nIsClosed                  0.047642      0.026371    -0.092304     -0.007952   \nStateId                  -0.063762      1.000000    -0.005835     -0.090667   \nCanTextEncoded            1.000000     -0.063762    -0.124757     -0.155245   \nCLV                       0.047642      0.026371    -0.092304     -0.007952   \nActivityLevel            -0.133578      0.015429     0.068221      0.145297   \nParticipationRate        -0.133578      0.015429     0.068221      0.145297   \nLeadAgeDays               0.073592     -0.058755     0.007115      0.031994   \nTimeToEventDays           0.012024      0.012668    -0.144290      0.004429   \nEventDate_Timestamp      -0.233003      0.038113    -0.038966      0.055628   \nSubmissionDate_Timestamp -0.360991      0.040373     0.111723      0.086937   \nClosedDate_Timestamp     -0.309652      0.011023     0.105308      0.102336   \nCreatedDate_Timestamp    -0.360991      0.040373     0.111723      0.086937   \nUpdatedDate_Timestamp    -0.311845      0.008476     0.109901      0.102848   \n\n                          ArtistId  IsClosed   StateId  CanTextEncoded  \\\nCanText                   0.236853  0.047642 -0.063762        1.000000   \nEventStateId             -0.042441  0.026371  1.000000       -0.063762   \nEventTypeId              -0.040888 -0.092304 -0.005835       -0.124757   \nLeadSourceId             -0.062414 -0.007952 -0.090667       -0.155245   \nArtistId                  1.000000  0.015475 -0.042441        0.236853   \nIsClosed                  0.015475  1.000000  0.026371        0.047642   \nStateId                  -0.042441  0.026371  1.000000       -0.063762   \nCanTextEncoded            0.236853  0.047642 -0.063762        1.000000   \nCLV                       0.015475  1.000000  0.026371        0.047642   \nActivityLevel            -0.054589 -0.033380  0.015429       -0.133578   \nParticipationRate        -0.054589 -0.033380  0.015429       -0.133578   \nLeadAgeDays               0.040382  0.001574 -0.058755        0.073592   \nTimeToEventDays          -0.000461  0.011977  0.012668        0.012024   \nEventDate_Timestamp      -0.066841 -0.066838  0.038113       -0.233003   \nSubmissionDate_Timestamp -0.100261 -0.114548  0.040373       -0.360991   \nClosedDate_Timestamp     -0.075382 -0.001402  0.011023       -0.309652   \nCreatedDate_Timestamp    -0.100261 -0.114548  0.040373       -0.360991   \nUpdatedDate_Timestamp    -0.075843 -0.088143  0.008476       -0.311845   \n\n                               CLV  ActivityLevel  ParticipationRate  \\\nCanText                   0.047642      -0.133578          -0.133578   \nEventStateId              0.026371       0.015429           0.015429   \nEventTypeId              -0.092304       0.068221           0.068221   \nLeadSourceId             -0.007952       0.145297           0.145297   \nArtistId                  0.015475      -0.054589          -0.054589   \nIsClosed                  1.000000      -0.033380          -0.033380   \nStateId                   0.026371       0.015429           0.015429   \nCanTextEncoded            0.047642      -0.133578          -0.133578   \nCLV                       1.000000      -0.033380          -0.033380   \nActivityLevel            -0.033380       1.000000           1.000000   \nParticipationRate        -0.033380       1.000000           1.000000   \nLeadAgeDays               0.001574      -0.015676          -0.015676   \nTimeToEventDays           0.011977      -0.016668          -0.016668   \nEventDate_Timestamp      -0.066838       0.054653           0.054653   \nSubmissionDate_Timestamp -0.114548       0.103999           0.103999   \nClosedDate_Timestamp     -0.001402       0.089453           0.089453   \nCreatedDate_Timestamp    -0.114548       0.103999           0.103999   \nUpdatedDate_Timestamp    -0.088143       0.090833           0.090833   \n\n                          LeadAgeDays  TimeToEventDays  EventDate_Timestamp  \\\nCanText                      0.073592         0.012024            -0.233003   \nEventStateId                -0.058755         0.012668             0.038113   \nEventTypeId                  0.007115        -0.144290            -0.038966   \nLeadSourceId                 0.031994         0.004429             0.055628   \nArtistId                     0.040382        -0.000461            -0.066841   \nIsClosed                     0.001574         0.011977            -0.066838   \nStateId                     -0.058755         0.012668             0.038113   \nCanTextEncoded               0.073592         0.012024            -0.233003   \nCLV                          0.001574         0.011977            -0.066838   \nActivityLevel               -0.015676        -0.016668             0.054653   \nParticipationRate           -0.015676        -0.016668             0.054653   \nLeadAgeDays                  1.000000        -0.000955            -0.146433   \nTimeToEventDays             -0.000955         1.000000             0.732218   \nEventDate_Timestamp         -0.146433         0.732218             1.000000   \nSubmissionDate_Timestamp    -0.217641        -0.027088             0.660986   \nClosedDate_Timestamp         0.316873        -0.026015             0.561049   \nCreatedDate_Timestamp       -0.217641        -0.027088             0.660986   \nUpdatedDate_Timestamp        0.316851        -0.026371             0.564979   \n\n                          SubmissionDate_Timestamp  ClosedDate_Timestamp  \\\nCanText                                  -0.360991             -0.309652   \nEventStateId                              0.040373              0.011023   \nEventTypeId                               0.111723              0.105308   \nLeadSourceId                              0.086937              0.102336   \nArtistId                                 -0.100261             -0.075382   \nIsClosed                                 -0.114548             -0.001402   \nStateId                                   0.040373              0.011023   \nCanTextEncoded                           -0.360991             -0.309652   \nCLV                                      -0.114548             -0.001402   \nActivityLevel                             0.103999              0.089453   \nParticipationRate                         0.103999              0.089453   \nLeadAgeDays                              -0.217641              0.316873   \nTimeToEventDays                          -0.027088             -0.026015   \nEventDate_Timestamp                       0.660986              0.561049   \nSubmissionDate_Timestamp                  1.000000              0.856767   \nClosedDate_Timestamp                      0.856767              1.000000   \nCreatedDate_Timestamp                     1.000000              0.856767   \nUpdatedDate_Timestamp                     0.858750              0.999974   \n\n                          CreatedDate_Timestamp  UpdatedDate_Timestamp  \nCanText                               -0.360991              -0.311845  \nEventStateId                           0.040373               0.008476  \nEventTypeId                            0.111723               0.109901  \nLeadSourceId                           0.086937               0.102848  \nArtistId                              -0.100261              -0.075843  \nIsClosed                              -0.114548              -0.088143  \nStateId                                0.040373               0.008476  \nCanTextEncoded                        -0.360991              -0.311845  \nCLV                                   -0.114548              -0.088143  \nActivityLevel                          0.103999               0.090833  \nParticipationRate                      0.103999               0.090833  \nLeadAgeDays                           -0.217641               0.316851  \nTimeToEventDays                       -0.027088              -0.026371  \nEventDate_Timestamp                    0.660986               0.564979  \nSubmissionDate_Timestamp               1.000000               0.858750  \nClosedDate_Timestamp                   0.856767               0.999974  \nCreatedDate_Timestamp                  1.000000               0.858750  \nUpdatedDate_Timestamp                  0.858750               1.000000  \n"
        }
      ],
      "execution_count": 56,
      "metadata": {
        "jupyter": {
          "source_hidden": false,
          "outputs_hidden": false
        },
        "nteract": {
          "transient": {
            "deleting": false
          }
        },
        "gather": {
          "logged": 1733287399885
        }
      }
    }
  ],
  "metadata": {
    "kernelspec": {
      "name": "python38-azureml",
      "language": "python",
      "display_name": "Python 3.8 - AzureML"
    },
    "language_info": {
      "name": "python",
      "version": "3.10.11",
      "mimetype": "text/x-python",
      "codemirror_mode": {
        "name": "ipython",
        "version": 3
      },
      "pygments_lexer": "ipython3",
      "nbconvert_exporter": "python",
      "file_extension": ".py"
    },
    "microsoft": {
      "ms_spell_check": {
        "ms_spell_check_language": "en"
      },
      "host": {
        "AzureML": {
          "notebookHasBeenCompleted": true
        }
      }
    },
    "kernel_info": {
      "name": "python38-azureml"
    },
    "nteract": {
      "version": "nteract-front-end@1.0.0"
    }
  },
  "nbformat": 4,
  "nbformat_minor": 2
}